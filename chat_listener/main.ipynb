{
 "cells": [
  {
   "cell_type": "code",
   "execution_count": 1,
   "id": "49ee4cf6-89ef-42b6-bef0-f2e6ef974c9c",
   "metadata": {},
   "outputs": [],
   "source": [
    "from twitch_listener import utils\n",
    "from twitch_listener import listener"
   ]
  },
  {
   "cell_type": "code",
   "execution_count": 2,
   "id": "112c4760-2019-48f4-a532-6160ff047a0d",
   "metadata": {},
   "outputs": [],
   "source": [
    "# Connect to Twitch\n",
    "bot = listener.connect_twitch('twitch_pioneers', \n",
    "                             'oauth:zkekfhyhzhdl8ltxs6b8jdez7b2i6b', \n",
    "                             'capstone_pioneers')\n",
    "\n",
    "chat_file_path = '/home/w210/Twitch-chat-pioneers/chat_listener'\n",
    "\n",
    "# List of channels to connect to\n",
    "# Channel names must be lowercase\n",
    "channels_to_listen_to = ['hasanabi','asmongold']"
   ]
  },
  {
   "cell_type": "code",
   "execution_count": 3,
   "id": "93212d1c-1efd-4b9f-8b13-b172f6b015fb",
   "metadata": {},
   "outputs": [
    {
     "data": {
      "text/plain": [
       "['hasanabi', 'asmongold']"
      ]
     },
     "execution_count": 3,
     "metadata": {},
     "output_type": "execute_result"
    }
   ],
   "source": [
    "#returns list of live channels\n",
    "utils.is_live(channels_to_listen_to)"
   ]
  },
  {
   "cell_type": "code",
   "execution_count": 4,
   "id": "cd363617-e6af-4571-98f2-e234eecf16b6",
   "metadata": {},
   "outputs": [
    {
     "ename": "UnboundLocalError",
     "evalue": "local variable 'username' referenced before assignment",
     "output_type": "error",
     "traceback": [
      "\u001b[0;31m---------------------------------------------------------------------------\u001b[0m",
      "\u001b[0;31mUnboundLocalError\u001b[0m                         Traceback (most recent call last)",
      "\u001b[0;32m<ipython-input-4-84b3f045e0d7>\u001b[0m in \u001b[0;36m<module>\u001b[0;34m\u001b[0m\n\u001b[1;32m      1\u001b[0m \u001b[0;31m# Scrape live chat data into raw log files. (Duration is seconds)\u001b[0m\u001b[0;34m\u001b[0m\u001b[0;34m\u001b[0m\u001b[0;34m\u001b[0m\u001b[0m\n\u001b[0;32m----> 2\u001b[0;31m \u001b[0mbot\u001b[0m\u001b[0;34m.\u001b[0m\u001b[0mlisten\u001b[0m\u001b[0;34m(\u001b[0m\u001b[0mchannels_to_listen_to\u001b[0m\u001b[0;34m,\u001b[0m \u001b[0mduration\u001b[0m \u001b[0;34m=\u001b[0m \u001b[0;36m10\u001b[0m\u001b[0;34m)\u001b[0m\u001b[0;34m\u001b[0m\u001b[0;34m\u001b[0m\u001b[0m\n\u001b[0m\u001b[1;32m      3\u001b[0m \u001b[0;34m\u001b[0m\u001b[0m\n\u001b[1;32m      4\u001b[0m \u001b[0;31m# Convert log files into .CSV format\u001b[0m\u001b[0;34m\u001b[0m\u001b[0;34m\u001b[0m\u001b[0;34m\u001b[0m\u001b[0m\n\u001b[1;32m      5\u001b[0m \u001b[0;31m#bot.parse_logs(timestamp = True, file_path = chat_file_path)\u001b[0m\u001b[0;34m\u001b[0m\u001b[0;34m\u001b[0m\u001b[0;34m\u001b[0m\u001b[0m\n",
      "\u001b[0;32m~/Twitch-chat-pioneers/chat_listener/twitch_listener/listener.py\u001b[0m in \u001b[0;36mlisten\u001b[0;34m(self, channels, duration, debug, file_path)\u001b[0m\n\u001b[1;32m     94\u001b[0m                             \u001b[0mprint\u001b[0m\u001b[0;34m(\u001b[0m\u001b[0;34m\"\\n\\n\"\u001b[0m\u001b[0;34m)\u001b[0m\u001b[0;34m\u001b[0m\u001b[0;34m\u001b[0m\u001b[0m\n\u001b[1;32m     95\u001b[0m                     \u001b[0;32melse\u001b[0m\u001b[0;34m:\u001b[0m\u001b[0;34m\u001b[0m\u001b[0;34m\u001b[0m\u001b[0m\n\u001b[0;32m---> 96\u001b[0;31m                         \u001b[0mself\u001b[0m\u001b[0;34m.\u001b[0m\u001b[0m_loggers\u001b[0m\u001b[0;34m[\u001b[0m\u001b[0mchannel\u001b[0m\u001b[0;34m]\u001b[0m\u001b[0;34m.\u001b[0m\u001b[0minfo\u001b[0m\u001b[0;34m(\u001b[0m\u001b[0mresponse\u001b[0m\u001b[0;34m)\u001b[0m\u001b[0;34m\u001b[0m\u001b[0;34m\u001b[0m\u001b[0m\n\u001b[0m\u001b[1;32m     97\u001b[0m                         \u001b[0;32mif\u001b[0m \u001b[0mdebug\u001b[0m\u001b[0;34m:\u001b[0m\u001b[0;34m\u001b[0m\u001b[0;34m\u001b[0m\u001b[0m\n\u001b[1;32m     98\u001b[0m                             \u001b[0mprint\u001b[0m\u001b[0;34m(\u001b[0m\u001b[0mresponse\u001b[0m\u001b[0;34m)\u001b[0m\u001b[0;34m\u001b[0m\u001b[0;34m\u001b[0m\u001b[0m\n",
      "\u001b[0;32m~/anaconda3/lib/python3.8/logging/__init__.py\u001b[0m in \u001b[0;36minfo\u001b[0;34m(self, msg, *args, **kwargs)\u001b[0m\n\u001b[1;32m   1440\u001b[0m         \"\"\"\n\u001b[1;32m   1441\u001b[0m         \u001b[0;32mif\u001b[0m \u001b[0mself\u001b[0m\u001b[0;34m.\u001b[0m\u001b[0misEnabledFor\u001b[0m\u001b[0;34m(\u001b[0m\u001b[0mINFO\u001b[0m\u001b[0;34m)\u001b[0m\u001b[0;34m:\u001b[0m\u001b[0;34m\u001b[0m\u001b[0;34m\u001b[0m\u001b[0m\n\u001b[0;32m-> 1442\u001b[0;31m             \u001b[0mself\u001b[0m\u001b[0;34m.\u001b[0m\u001b[0m_log\u001b[0m\u001b[0;34m(\u001b[0m\u001b[0mINFO\u001b[0m\u001b[0;34m,\u001b[0m \u001b[0mmsg\u001b[0m\u001b[0;34m,\u001b[0m \u001b[0margs\u001b[0m\u001b[0;34m,\u001b[0m \u001b[0;34m**\u001b[0m\u001b[0mkwargs\u001b[0m\u001b[0;34m)\u001b[0m\u001b[0;34m\u001b[0m\u001b[0;34m\u001b[0m\u001b[0m\n\u001b[0m\u001b[1;32m   1443\u001b[0m \u001b[0;34m\u001b[0m\u001b[0m\n\u001b[1;32m   1444\u001b[0m     \u001b[0;32mdef\u001b[0m \u001b[0mwarning\u001b[0m\u001b[0;34m(\u001b[0m\u001b[0mself\u001b[0m\u001b[0;34m,\u001b[0m \u001b[0mmsg\u001b[0m\u001b[0;34m,\u001b[0m \u001b[0;34m*\u001b[0m\u001b[0margs\u001b[0m\u001b[0;34m,\u001b[0m \u001b[0;34m**\u001b[0m\u001b[0mkwargs\u001b[0m\u001b[0;34m)\u001b[0m\u001b[0;34m:\u001b[0m\u001b[0;34m\u001b[0m\u001b[0;34m\u001b[0m\u001b[0m\n",
      "\u001b[0;32m~/anaconda3/lib/python3.8/logging/__init__.py\u001b[0m in \u001b[0;36m_log\u001b[0;34m(self, level, msg, args, exc_info, extra, stack_info, stacklevel)\u001b[0m\n\u001b[1;32m   1583\u001b[0m         record = self.makeRecord(self.name, level, fn, lno, msg, args,\n\u001b[1;32m   1584\u001b[0m                                  exc_info, func, extra, sinfo)\n\u001b[0;32m-> 1585\u001b[0;31m         \u001b[0mself\u001b[0m\u001b[0;34m.\u001b[0m\u001b[0mhandle\u001b[0m\u001b[0;34m(\u001b[0m\u001b[0mrecord\u001b[0m\u001b[0;34m)\u001b[0m\u001b[0;34m\u001b[0m\u001b[0;34m\u001b[0m\u001b[0m\n\u001b[0m\u001b[1;32m   1586\u001b[0m \u001b[0;34m\u001b[0m\u001b[0m\n\u001b[1;32m   1587\u001b[0m     \u001b[0;32mdef\u001b[0m \u001b[0mhandle\u001b[0m\u001b[0;34m(\u001b[0m\u001b[0mself\u001b[0m\u001b[0;34m,\u001b[0m \u001b[0mrecord\u001b[0m\u001b[0;34m)\u001b[0m\u001b[0;34m:\u001b[0m\u001b[0;34m\u001b[0m\u001b[0;34m\u001b[0m\u001b[0m\n",
      "\u001b[0;32m~/anaconda3/lib/python3.8/logging/__init__.py\u001b[0m in \u001b[0;36mhandle\u001b[0;34m(self, record)\u001b[0m\n\u001b[1;32m   1593\u001b[0m         \"\"\"\n\u001b[1;32m   1594\u001b[0m         \u001b[0;32mif\u001b[0m \u001b[0;34m(\u001b[0m\u001b[0;32mnot\u001b[0m \u001b[0mself\u001b[0m\u001b[0;34m.\u001b[0m\u001b[0mdisabled\u001b[0m\u001b[0;34m)\u001b[0m \u001b[0;32mand\u001b[0m \u001b[0mself\u001b[0m\u001b[0;34m.\u001b[0m\u001b[0mfilter\u001b[0m\u001b[0;34m(\u001b[0m\u001b[0mrecord\u001b[0m\u001b[0;34m)\u001b[0m\u001b[0;34m:\u001b[0m\u001b[0;34m\u001b[0m\u001b[0;34m\u001b[0m\u001b[0m\n\u001b[0;32m-> 1595\u001b[0;31m             \u001b[0mself\u001b[0m\u001b[0;34m.\u001b[0m\u001b[0mcallHandlers\u001b[0m\u001b[0;34m(\u001b[0m\u001b[0mrecord\u001b[0m\u001b[0;34m)\u001b[0m\u001b[0;34m\u001b[0m\u001b[0;34m\u001b[0m\u001b[0m\n\u001b[0m\u001b[1;32m   1596\u001b[0m \u001b[0;34m\u001b[0m\u001b[0m\n\u001b[1;32m   1597\u001b[0m     \u001b[0;32mdef\u001b[0m \u001b[0maddHandler\u001b[0m\u001b[0;34m(\u001b[0m\u001b[0mself\u001b[0m\u001b[0;34m,\u001b[0m \u001b[0mhdlr\u001b[0m\u001b[0;34m)\u001b[0m\u001b[0;34m:\u001b[0m\u001b[0;34m\u001b[0m\u001b[0;34m\u001b[0m\u001b[0m\n",
      "\u001b[0;32m~/anaconda3/lib/python3.8/logging/__init__.py\u001b[0m in \u001b[0;36mcallHandlers\u001b[0;34m(self, record)\u001b[0m\n\u001b[1;32m   1655\u001b[0m                 \u001b[0mfound\u001b[0m \u001b[0;34m=\u001b[0m \u001b[0mfound\u001b[0m \u001b[0;34m+\u001b[0m \u001b[0;36m1\u001b[0m\u001b[0;34m\u001b[0m\u001b[0;34m\u001b[0m\u001b[0m\n\u001b[1;32m   1656\u001b[0m                 \u001b[0;32mif\u001b[0m \u001b[0mrecord\u001b[0m\u001b[0;34m.\u001b[0m\u001b[0mlevelno\u001b[0m \u001b[0;34m>=\u001b[0m \u001b[0mhdlr\u001b[0m\u001b[0;34m.\u001b[0m\u001b[0mlevel\u001b[0m\u001b[0;34m:\u001b[0m\u001b[0;34m\u001b[0m\u001b[0;34m\u001b[0m\u001b[0m\n\u001b[0;32m-> 1657\u001b[0;31m                     \u001b[0mhdlr\u001b[0m\u001b[0;34m.\u001b[0m\u001b[0mhandle\u001b[0m\u001b[0;34m(\u001b[0m\u001b[0mrecord\u001b[0m\u001b[0;34m)\u001b[0m\u001b[0;34m\u001b[0m\u001b[0;34m\u001b[0m\u001b[0m\n\u001b[0m\u001b[1;32m   1658\u001b[0m             \u001b[0;32mif\u001b[0m \u001b[0;32mnot\u001b[0m \u001b[0mc\u001b[0m\u001b[0;34m.\u001b[0m\u001b[0mpropagate\u001b[0m\u001b[0;34m:\u001b[0m\u001b[0;34m\u001b[0m\u001b[0;34m\u001b[0m\u001b[0m\n\u001b[1;32m   1659\u001b[0m                 \u001b[0mc\u001b[0m \u001b[0;34m=\u001b[0m \u001b[0;32mNone\u001b[0m    \u001b[0;31m#break out\u001b[0m\u001b[0;34m\u001b[0m\u001b[0;34m\u001b[0m\u001b[0m\n",
      "\u001b[0;32m~/anaconda3/lib/python3.8/logging/__init__.py\u001b[0m in \u001b[0;36mhandle\u001b[0;34m(self, record)\u001b[0m\n\u001b[1;32m    948\u001b[0m             \u001b[0mself\u001b[0m\u001b[0;34m.\u001b[0m\u001b[0macquire\u001b[0m\u001b[0;34m(\u001b[0m\u001b[0;34m)\u001b[0m\u001b[0;34m\u001b[0m\u001b[0;34m\u001b[0m\u001b[0m\n\u001b[1;32m    949\u001b[0m             \u001b[0;32mtry\u001b[0m\u001b[0;34m:\u001b[0m\u001b[0;34m\u001b[0m\u001b[0;34m\u001b[0m\u001b[0m\n\u001b[0;32m--> 950\u001b[0;31m                 \u001b[0mself\u001b[0m\u001b[0;34m.\u001b[0m\u001b[0memit\u001b[0m\u001b[0;34m(\u001b[0m\u001b[0mrecord\u001b[0m\u001b[0;34m)\u001b[0m\u001b[0;34m\u001b[0m\u001b[0;34m\u001b[0m\u001b[0m\n\u001b[0m\u001b[1;32m    951\u001b[0m             \u001b[0;32mfinally\u001b[0m\u001b[0;34m:\u001b[0m\u001b[0;34m\u001b[0m\u001b[0;34m\u001b[0m\u001b[0m\n\u001b[1;32m    952\u001b[0m                 \u001b[0mself\u001b[0m\u001b[0;34m.\u001b[0m\u001b[0mrelease\u001b[0m\u001b[0;34m(\u001b[0m\u001b[0;34m)\u001b[0m\u001b[0;34m\u001b[0m\u001b[0;34m\u001b[0m\u001b[0m\n",
      "\u001b[0;32m~/Twitch-chat-pioneers/chat_listener/twitch_listener/sqlite_handler.py\u001b[0m in \u001b[0;36memit\u001b[0;34m(self, record)\u001b[0m\n\u001b[1;32m    146\u001b[0m             (\n\u001b[1;32m    147\u001b[0m                 \u001b[0;34m'test'\u001b[0m\u001b[0;34m,\u001b[0m\u001b[0;34m\u001b[0m\u001b[0;34m\u001b[0m\u001b[0m\n\u001b[0;32m--> 148\u001b[0;31m                 \u001b[0musername\u001b[0m\u001b[0;34m,\u001b[0m\u001b[0;34m\u001b[0m\u001b[0;34m\u001b[0m\u001b[0m\n\u001b[0m\u001b[1;32m    149\u001b[0m                 \u001b[0mdecoded_message\u001b[0m\u001b[0;34m,\u001b[0m\u001b[0;34m\u001b[0m\u001b[0;34m\u001b[0m\u001b[0m\n\u001b[1;32m    150\u001b[0m                 \u001b[0mrecord\u001b[0m\u001b[0;34m.\u001b[0m\u001b[0mname\u001b[0m\u001b[0;34m\u001b[0m\u001b[0;34m\u001b[0m\u001b[0m\n",
      "\u001b[0;31mUnboundLocalError\u001b[0m: local variable 'username' referenced before assignment"
     ]
    }
   ],
   "source": [
    "# Scrape live chat data into raw log files. (Duration is seconds)\n",
    "bot.listen(channels_to_listen_to, duration = 10) \n",
    "\n",
    "# Convert log files into .CSV format\n",
    "#bot.parse_logs(timestamp = True, file_path = chat_file_path)\n",
    "\n",
    "# Generate adjacency matrix\n",
    "#bot.adj_matrix(weighted = False, matrix_name = \"streamer_network.csv\")"
   ]
  },
  {
   "cell_type": "code",
   "execution_count": 5,
   "id": "438f7b49",
   "metadata": {},
   "outputs": [
    {
     "data": {
      "text/plain": [
       "[('asmongold',), ('debug',), ('hasanabi',)]"
      ]
     },
     "execution_count": 5,
     "metadata": {},
     "output_type": "execute_result"
    }
   ],
   "source": [
    "import sqlite3\n",
    "conn = sqlite3.connect('db.sqlite3')\n",
    "test = conn.execute('''SELECT name FROM sqlite_schema \n",
    "                        WHERE type='table'\n",
    "                        ORDER BY name;''')\n",
    "test.fetchall()"
   ]
  },
  {
   "cell_type": "code",
   "execution_count": 12,
   "id": "d40d6ad0",
   "metadata": {},
   "outputs": [
    {
     "data": {
      "text/plain": [
       "[('2022-07-05 20:53:47.415261', None, None, 'hasanabi'),\n",
       " ('2022-07-05 20:53:47.420581', None, None, 'hasanabi'),\n",
       " ('2022-07-05 20:53:47.618426', '', '', 'hasanabi'),\n",
       " ('2022-07-05 20:53:47.623706', '', '', 'hasanabi'),\n",
       " ('2022-07-05 20:53:47.822868', 'r\\\\n:mikeyferdi', '', 'hasanabi'),\n",
       " ('2022-07-05 20:53:47.828097', 'r\\\\n:mikeyferdi', '', 'hasanabi'),\n",
       " ('2022-07-05 20:53:48.204328', ' roofs KKonaW\\\\r\\\\n', '', 'hasanabi'),\n",
       " ('2022-07-05 20:53:48.211485', ' roofs KKonaW\\\\r\\\\n', '', 'hasanabi'),\n",
       " ('2022-07-05 20:53:48.335341', '', '', 'hasanabi'),\n",
       " ('2022-07-05 20:53:48.339928', '', '', 'hasanabi'),\n",
       " ('2022-07-05 20:53:48.529338', '', '', 'hasanabi'),\n",
       " ('2022-07-05 20:53:48.534410', '', '', 'hasanabi'),\n",
       " ('2022-07-05 20:53:48.736044', '', '', 'hasanabi'),\n",
       " ('2022-07-05 20:53:48.740737', '', '', 'hasanabi'),\n",
       " ('2022-07-05 20:53:49.128035', '', '', 'hasanabi'),\n",
       " ('2022-07-05 20:53:49.133066', '', '', 'hasanabi'),\n",
       " ('2022-07-05 20:53:49.325266', '', '', 'hasanabi'),\n",
       " ('2022-07-05 20:53:49.330876', '', '', 'hasanabi'),\n",
       " ('2022-07-05 20:53:49.522145', '', '', 'hasanabi'),\n",
       " ('2022-07-05 20:53:49.527799', '', '', 'hasanabi'),\n",
       " ('2022-07-05 20:53:50.017319', '', '', 'hasanabi'),\n",
       " ('2022-07-05 20:53:50.023162', '', '', 'hasanabi'),\n",
       " ('2022-07-05 20:53:50.359916', '', '', 'hasanabi'),\n",
       " ('2022-07-05 20:53:50.364974', '', '', 'hasanabi'),\n",
       " ('2022-07-05 20:53:50.617719', '', '', 'hasanabi'),\n",
       " ('2022-07-05 20:53:50.623012', '', '', 'hasanabi'),\n",
       " ('2022-07-05 20:53:50.897272', '', '', 'hasanabi'),\n",
       " ('2022-07-05 20:53:50.902764', '', '', 'hasanabi'),\n",
       " ('2022-07-05 20:53:51.228918', '', '', 'hasanabi'),\n",
       " ('2022-07-05 20:53:51.234167', '', '', 'hasanabi'),\n",
       " ('2022-07-05 20:53:51.617941', '', '', 'hasanabi'),\n",
       " ('2022-07-05 20:53:51.623426', '', '', 'hasanabi'),\n",
       " ('2022-07-05 20:53:51.826924', 'ther\\\\r\\\\n', '', 'hasanabi'),\n",
       " ('2022-07-05 20:53:51.832340', 'ther\\\\r\\\\n', '', 'hasanabi'),\n",
       " ('2022-07-05 20:53:52.383943', '', '', 'hasanabi'),\n",
       " ('2022-07-05 20:53:52.389375', '', '', 'hasanabi'),\n",
       " ('2022-07-05 20:53:52.586620', '', '', 'hasanabi'),\n",
       " ('2022-07-05 20:53:52.592149', '', '', 'hasanabi'),\n",
       " ('2022-07-05 20:53:52.794520', '', '', 'hasanabi'),\n",
       " ('2022-07-05 20:53:52.800797', '', '', 'hasanabi'),\n",
       " ('2022-07-05 20:53:53.258312',\n",
       "  'd kid KKop who coulda known\\\\r\\\\n',\n",
       "  '',\n",
       "  'hasanabi'),\n",
       " ('2022-07-05 20:53:53.264013',\n",
       "  'd kid KKop who coulda known\\\\r\\\\n',\n",
       "  '',\n",
       "  'hasanabi'),\n",
       " ('2022-07-05 20:53:53.585574', '', '', 'hasanabi'),\n",
       " ('2022-07-05 20:53:53.590326', '', '', 'hasanabi'),\n",
       " ('2022-07-05 20:53:53.884764', '', '', 'hasanabi'),\n",
       " ('2022-07-05 20:53:53.890177', '', '', 'hasanabi'),\n",
       " ('2022-07-05 20:53:54.017761',\n",
       "  ' nothing of a violent nature KEKL\\\\r\\\\n',\n",
       "  '',\n",
       "  'hasanabi'),\n",
       " ('2022-07-05 20:53:54.022455',\n",
       "  ' nothing of a violent nature KEKL\\\\r\\\\n',\n",
       "  '',\n",
       "  'hasanabi'),\n",
       " ('2022-07-05 20:53:54.272330', '', '', 'hasanabi'),\n",
       " ('2022-07-05 20:53:54.277712', '', '', 'hasanabi'),\n",
       " ('2022-07-05 20:53:54.917469', '', '', 'hasanabi'),\n",
       " ('2022-07-05 20:53:54.922399', '', '', 'hasanabi'),\n",
       " ('2022-07-05 20:53:55.125977', '', '', 'hasanabi'),\n",
       " ('2022-07-05 20:53:55.131011', '', '', 'hasanabi'),\n",
       " ('2022-07-05 20:53:55.329798', '', '', 'hasanabi'),\n",
       " ('2022-07-05 20:53:55.334703', '', '', 'hasanabi'),\n",
       " ('2022-07-05 20:53:55.555279', '', '', 'hasanabi'),\n",
       " ('2022-07-05 20:53:55.560461', '', '', 'hasanabi'),\n",
       " ('2022-07-05 20:53:55.728831', ' not the guns\\\\r\\\\n', '', 'hasanabi'),\n",
       " ('2022-07-05 20:53:55.734259', ' not the guns\\\\r\\\\n', '', 'hasanabi'),\n",
       " ('2022-07-05 20:53:56.067858', '', '', 'hasanabi'),\n",
       " ('2022-07-05 20:53:56.073871', '', '', 'hasanabi'),\n",
       " ('2022-07-05 20:53:56.206713', '', '', 'hasanabi'),\n",
       " ('2022-07-05 20:53:56.213902', '', '', 'hasanabi'),\n",
       " ('2022-07-05 20:53:56.412887', 'basaur', '', 'hasanabi'),\n",
       " ('2022-07-05 20:53:56.418096', 'basaur', '', 'hasanabi'),\n",
       " ('2022-07-05 20:53:57.027405', '', '', 'hasanabi'),\n",
       " ('2022-07-05 20:53:57.032857', '', '', 'hasanabi'),\n",
       " ('2022-07-05 20:53:57.400637', 'y\\\\r\\\\n', '', 'hasanabi'),\n",
       " ('2022-07-05 20:53:57.407969', 'y\\\\r\\\\n', '', 'hasanabi')]"
      ]
     },
     "execution_count": 12,
     "metadata": {},
     "output_type": "execute_result"
    }
   ],
   "source": [
    "#test = conn.execute('''drop table if exists hasanabi''')\n",
    "test = conn.execute('''select * from hasanabi''')\n",
    "test.fetchall()"
   ]
  },
  {
   "cell_type": "code",
   "execution_count": 6,
   "id": "c4e4a014",
   "metadata": {},
   "outputs": [],
   "source": [
    "from pathlib import Path\n",
    "import re\n",
    "import os\n",
    "def parse_logs(channels = [], timestamp = True, remove_bots = False, file_path = ''):\n",
    "\n",
    "        \"\"\"\n",
    "        Method for converting raw data from text logs into .CSV format.\n",
    "\n",
    "        Parameters:\n",
    "            timestamp (boolean, optional) \n",
    "                - Whether or not to include the timestamp of chat messages. \n",
    "                - Note: timestamps represent when message \n",
    "                    was retrieved, not sent\n",
    "            channels (list, optional)     \n",
    "                - List of channel usernames for whom the text logs \n",
    "                    will be parsed into csv format.\n",
    "                - If none are specified, the channels that are \n",
    "                    currently joined will be parsed\n",
    "            remove_bots (bool, optional)\n",
    "                - Whether or not to exclude messages sent by common bot accounts\n",
    "        \"\"\"\n",
    "\n",
    "        # Check if specific list of channels is given\n",
    "#         if len(channels) == 0:\n",
    "#             try:\n",
    "#                 channels = self.joined\n",
    "#             except:\n",
    "#                 print(\"Please either connect to channels, \\\n",
    "#                       or specify a list of log files to parse.\")\n",
    "                \n",
    "#         if Path(file_path).exists() is False:\n",
    "#             try: \n",
    "#                 os.mkdir(file_path) \n",
    "#             except OSError as error: \n",
    "#                 print(\"Failed to make chats directory\")  \n",
    "        \n",
    "        # Set up regex for hex decoding\n",
    "        ESCAPE_SEQUENCE_RE = re.compile(r'''\n",
    "            ( \\\\U........      # 8-digit hex escapes\n",
    "            | \\\\u....          # 4-digit hex escapes\n",
    "            | \\\\x..            # 2-digit hex escapes\n",
    "            | \\\\[0-7]{1,3}     # Octal escapes\n",
    "            | \\\\N\\{[^}]+\\}     # Unicode characters by name\n",
    "            | \\\\[\\\\'\"abfnrtv]  # Single-character escapes\n",
    "            )''', re.UNICODE | re.VERBOSE)\n",
    "        \n",
    "        def decode_escapes(s):\n",
    "            def decode_match(match):\n",
    "                return codecs.decode(match.group(0), 'unicode-escape')\n",
    "        \n",
    "            return ESCAPE_SEQUENCE_RE.sub(decode_match, s)\n",
    "        \n",
    "        # Check if string given for channe;s\n",
    "        if type(channels) == str:\n",
    "            channels = [channels]\n",
    "            \n",
    "        # Retrieve data from logs\n",
    "        for channel in channels:\n",
    "            if not channel.endswith(\".log\"):\n",
    "                filename = os.getcwd() + '/logs/' + channel + \".log\"\n",
    "            lines = []\n",
    "            with open(filename) as f:\n",
    "                for line in f:\n",
    "                    if line not in lines:\n",
    "                        lines.append(line)\n",
    "                        \n",
    "            # Separate the raw strings into separate messages \n",
    "            split_messages = []\n",
    "            for line in lines:\n",
    "                print(type(line))\n",
    "                count = line.count('.tmi.twitch.tv PRIVMSG #')\n",
    "                entryInfo = 'Your host is tmi.twitch.tv' in line or 'End of /NAMES list\\\\r\\\\n' in line\n",
    "                if entryInfo:\n",
    "                    pass\n",
    "                \n",
    "                elif count == 0:\n",
    "                    pass\n",
    "                elif count == 1 and not entryInfo:\n",
    "                    if line.endswith('\\\\r\\\\n\\'\\n'):\n",
    "                        split_messages.append(line[:-6])\n",
    "                    else:\n",
    "                        split_messages.append(line)     \n",
    "                else:\n",
    "                    for msg in _split_line(line):\n",
    "                        split_messages.append(msg)\n",
    "            # Parse username, message text and (optional) datetime\n",
    "            data = []          \n",
    "            for message in split_messages:\n",
    "                username = None\n",
    "                message_text = None\n",
    "                datetime = None\n",
    "                row = {}\n",
    "                \n",
    "                # Parse message text\n",
    "                hash_channel_point = message.find(\"PRIVMSG #\" + channel)\n",
    "                slice_ = message[hash_channel_point:]\n",
    "                \n",
    "                slice_point = slice_.find(\":\") + 1\n",
    "                message_text = slice_[slice_point:]\n",
    "                decoded_txt = decode_escapes(message_text).encode('latin1').decode('utf-8')\n",
    "                row['text'] = decoded_txt\n",
    "                \n",
    "                # Parse username\n",
    "                b = message.find(\"b\")\n",
    "                exclam = message.find(\"!\")\n",
    "                username = message[b:exclam][3:]\n",
    "                row['username'] = username\n",
    "                \n",
    "                # Parse timestamp \n",
    "                # (note: dates are in weirdo American format)\n",
    "                if timestamp:\n",
    "                    datetime = message[:23] \n",
    "                    row['timestamp'] = datetime\n",
    "            \n",
    "                # Store observations\n",
    "                if remove_bots and row['username'] in self.botlist:\n",
    "                    pass\n",
    "                else:\n",
    "                    data.append(row)\n",
    "            \n",
    "#             # Write data to file\n",
    "#             if len(data) > 0:\n",
    "#                 pd.DataFrame(data).to_csv(file_path + channel + \".csv\", index = False)\n",
    "\n",
    "def _split_line(line, firstLine = False):\n",
    "\n",
    "    prefix = line[:28]        \n",
    "    if firstLine:\n",
    "        line = line.split('End of /NAMES list\\\\r\\\\n')[1]        \n",
    "    splits = [message for ind, message in enumerate(line.split(\"\\\\r\\\\n\")) \n",
    "              if 'PRIVMSG' in message or ind == 0] \n",
    "    for i, case in enumerate(splits):\n",
    "        if firstLine or i != 0:\n",
    "            splits[i] = prefix + splits[i]\n",
    "\n",
    "    return splits"
   ]
  },
  {
   "cell_type": "code",
   "execution_count": 7,
   "id": "add85f50",
   "metadata": {},
   "outputs": [
    {
     "name": "stdout",
     "output_type": "stream",
     "text": [
      "<class 'str'>\n",
      "<class 'str'>\n",
      "<class 'str'>\n",
      "<class 'str'>\n",
      "<class 'str'>\n",
      "<class 'str'>\n",
      "<class 'str'>\n",
      "<class 'str'>\n"
     ]
    }
   ],
   "source": [
    "parse_logs(['hasanabi'], file_path = '/home/w210/Twitch-chat-pioneers/chat_listener')"
   ]
  },
  {
   "cell_type": "code",
   "execution_count": null,
   "id": "acb73ba1",
   "metadata": {},
   "outputs": [],
   "source": []
  }
 ],
 "metadata": {
  "environment": {
   "kernel": "python3",
   "name": "common-cpu.m93",
   "type": "gcloud",
   "uri": "gcr.io/deeplearning-platform-release/base-cpu:m93"
  },
  "kernelspec": {
   "display_name": "Python 3",
   "language": "python",
   "name": "python3"
  },
  "language_info": {
   "codemirror_mode": {
    "name": "ipython",
    "version": 3
   },
   "file_extension": ".py",
   "mimetype": "text/x-python",
   "name": "python",
   "nbconvert_exporter": "python",
   "pygments_lexer": "ipython3",
   "version": "3.8.8"
  }
 },
 "nbformat": 4,
 "nbformat_minor": 5
}
