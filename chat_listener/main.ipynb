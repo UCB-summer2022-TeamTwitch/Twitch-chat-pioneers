{
 "cells": [
  {
   "cell_type": "code",
   "execution_count": 1,
   "id": "49ee4cf6-89ef-42b6-bef0-f2e6ef974c9c",
   "metadata": {},
   "outputs": [],
   "source": [
    "from twitch_listener import utils\n",
    "from twitch_listener import listener"
   ]
  },
  {
   "cell_type": "code",
   "execution_count": 2,
   "id": "04c82d82-0751-4797-b06d-3c508988684d",
   "metadata": {},
   "outputs": [
    {
     "name": "stdout",
     "output_type": "stream",
     "text": [
      "/home/w210/Twitch-chat-pioneers/chat_listener\r\n"
     ]
    }
   ],
   "source": [
    "!pwd"
   ]
  },
  {
   "cell_type": "code",
   "execution_count": 3,
   "id": "112c4760-2019-48f4-a532-6160ff047a0d",
   "metadata": {},
   "outputs": [],
   "source": [
    "# Connect to Twitch\n",
    "bot = listener.connect_twitch('twitch_pioneers', \n",
    "                             'oauth:zkekfhyhzhdl8ltxs6b8jdez7b2i6b', \n",
    "                             'capstone_pioneers')\n",
    "\n",
    "chat_file_path = '/home/w210/Twitch-chat-pioneers/chat_listener'\n",
    "\n",
    "# List of channels to connect to\n",
    "# Channel names must be lowercase\n",
    "channels_to_listen_to = ['hasanabi']"
   ]
  },
  {
   "cell_type": "code",
   "execution_count": 4,
   "id": "93212d1c-1efd-4b9f-8b13-b172f6b015fb",
   "metadata": {},
   "outputs": [
    {
     "data": {
      "text/plain": [
       "['hasanabi']"
      ]
     },
     "execution_count": 4,
     "metadata": {},
     "output_type": "execute_result"
    }
   ],
   "source": [
    "#returns list of live channels\n",
    "utils.is_live(channels_to_listen_to)"
   ]
  },
  {
   "cell_type": "code",
   "execution_count": 5,
   "id": "cd363617-e6af-4571-98f2-e234eecf16b6",
   "metadata": {},
   "outputs": [
    {
     "ename": "TypeError",
     "evalue": "expected str, bytes or os.PathLike object, not SQLiteHandler",
     "output_type": "error",
     "traceback": [
      "\u001b[0;31m---------------------------------------------------------------------------\u001b[0m",
      "\u001b[0;31mTypeError\u001b[0m                                 Traceback (most recent call last)",
      "\u001b[0;32m<ipython-input-5-3e1c7eefb449>\u001b[0m in \u001b[0;36m<module>\u001b[0;34m\u001b[0m\n\u001b[1;32m      1\u001b[0m \u001b[0;31m# Scrape live chat data into raw log files. (Duration is seconds)\u001b[0m\u001b[0;34m\u001b[0m\u001b[0;34m\u001b[0m\u001b[0;34m\u001b[0m\u001b[0m\n\u001b[0;32m----> 2\u001b[0;31m \u001b[0mbot\u001b[0m\u001b[0;34m.\u001b[0m\u001b[0mlisten\u001b[0m\u001b[0;34m(\u001b[0m\u001b[0mchannels_to_listen_to\u001b[0m\u001b[0;34m,\u001b[0m \u001b[0mduration\u001b[0m \u001b[0;34m=\u001b[0m \u001b[0;36m10\u001b[0m\u001b[0;34m)\u001b[0m\u001b[0;34m\u001b[0m\u001b[0;34m\u001b[0m\u001b[0m\n\u001b[0m\u001b[1;32m      3\u001b[0m \u001b[0;34m\u001b[0m\u001b[0m\n\u001b[1;32m      4\u001b[0m \u001b[0;31m# Convert log files into .CSV format\u001b[0m\u001b[0;34m\u001b[0m\u001b[0;34m\u001b[0m\u001b[0;34m\u001b[0m\u001b[0m\n\u001b[1;32m      5\u001b[0m \u001b[0mbot\u001b[0m\u001b[0;34m.\u001b[0m\u001b[0mparse_logs\u001b[0m\u001b[0;34m(\u001b[0m\u001b[0mtimestamp\u001b[0m \u001b[0;34m=\u001b[0m \u001b[0;32mTrue\u001b[0m\u001b[0;34m,\u001b[0m \u001b[0mfile_path\u001b[0m \u001b[0;34m=\u001b[0m \u001b[0mchat_file_path\u001b[0m\u001b[0;34m)\u001b[0m\u001b[0;34m\u001b[0m\u001b[0;34m\u001b[0m\u001b[0m\n",
      "\u001b[0;32m~/Twitch-chat-pioneers/chat_listener/twitch_listener/listener.py\u001b[0m in \u001b[0;36mlisten\u001b[0;34m(self, channels, duration, debug, file_path)\u001b[0m\n\u001b[1;32m     71\u001b[0m         \u001b[0;32mif\u001b[0m \u001b[0mtype\u001b[0m\u001b[0;34m(\u001b[0m\u001b[0mchannels\u001b[0m\u001b[0;34m)\u001b[0m \u001b[0;32mis\u001b[0m \u001b[0mstr\u001b[0m\u001b[0;34m:\u001b[0m\u001b[0;34m\u001b[0m\u001b[0;34m\u001b[0m\u001b[0m\n\u001b[1;32m     72\u001b[0m             \u001b[0mchannels\u001b[0m \u001b[0;34m=\u001b[0m \u001b[0;34m[\u001b[0m\u001b[0mchannels\u001b[0m\u001b[0;34m]\u001b[0m\u001b[0;34m\u001b[0m\u001b[0;34m\u001b[0m\u001b[0m\n\u001b[0;32m---> 73\u001b[0;31m         \u001b[0mself\u001b[0m\u001b[0;34m.\u001b[0m\u001b[0m_join_channels\u001b[0m\u001b[0;34m(\u001b[0m\u001b[0mchannels\u001b[0m\u001b[0;34m)\u001b[0m\u001b[0;34m\u001b[0m\u001b[0;34m\u001b[0m\u001b[0m\n\u001b[0m\u001b[1;32m     74\u001b[0m         \u001b[0mstartTime\u001b[0m \u001b[0;34m=\u001b[0m \u001b[0mtime\u001b[0m\u001b[0;34m(\u001b[0m\u001b[0;34m)\u001b[0m\u001b[0;34m\u001b[0m\u001b[0;34m\u001b[0m\u001b[0m\n\u001b[1;32m     75\u001b[0m \u001b[0;34m\u001b[0m\u001b[0m\n",
      "\u001b[0;32m~/Twitch-chat-pioneers/chat_listener/twitch_listener/listener.py\u001b[0m in \u001b[0;36m_join_channels\u001b[0;34m(self, channels)\u001b[0m\n\u001b[1;32m     51\u001b[0m             \u001b[0mself\u001b[0m\u001b[0;34m.\u001b[0m\u001b[0m_sockets\u001b[0m\u001b[0;34m[\u001b[0m\u001b[0mchannel\u001b[0m\u001b[0;34m]\u001b[0m\u001b[0;34m.\u001b[0m\u001b[0msend\u001b[0m\u001b[0;34m(\u001b[0m\u001b[0mjoinString\u001b[0m\u001b[0;34m.\u001b[0m\u001b[0mencode\u001b[0m\u001b[0;34m(\u001b[0m\u001b[0;34m'utf-8'\u001b[0m\u001b[0;34m)\u001b[0m\u001b[0;34m)\u001b[0m\u001b[0;34m\u001b[0m\u001b[0;34m\u001b[0m\u001b[0m\n\u001b[1;32m     52\u001b[0m             \u001b[0;31m#self._loggers[channel] = utils.setup_loggers(channel, os.getcwd() + '/logs/' + channel + '.log')\u001b[0m\u001b[0;34m\u001b[0m\u001b[0;34m\u001b[0m\u001b[0;34m\u001b[0m\u001b[0m\n\u001b[0;32m---> 53\u001b[0;31m             \u001b[0mself\u001b[0m\u001b[0;34m.\u001b[0m\u001b[0m_loggers\u001b[0m\u001b[0;34m[\u001b[0m\u001b[0mchannel\u001b[0m\u001b[0;34m]\u001b[0m \u001b[0;34m=\u001b[0m \u001b[0mutils\u001b[0m\u001b[0;34m.\u001b[0m\u001b[0msetup_sqllite_loggers\u001b[0m\u001b[0;34m(\u001b[0m\u001b[0mchannel\u001b[0m\u001b[0;34m,\u001b[0m \u001b[0mos\u001b[0m\u001b[0;34m.\u001b[0m\u001b[0mgetcwd\u001b[0m\u001b[0;34m(\u001b[0m\u001b[0;34m)\u001b[0m \u001b[0;34m+\u001b[0m \u001b[0;34m'/logs/'\u001b[0m \u001b[0;34m+\u001b[0m \u001b[0mchannel\u001b[0m \u001b[0;34m+\u001b[0m \u001b[0;34m'.log'\u001b[0m\u001b[0;34m)\u001b[0m\u001b[0;34m\u001b[0m\u001b[0;34m\u001b[0m\u001b[0m\n\u001b[0m\u001b[1;32m     54\u001b[0m \u001b[0;34m\u001b[0m\u001b[0m\n\u001b[1;32m     55\u001b[0m             \u001b[0mself\u001b[0m\u001b[0;34m.\u001b[0m\u001b[0mjoined\u001b[0m\u001b[0;34m.\u001b[0m\u001b[0mappend\u001b[0m\u001b[0;34m(\u001b[0m\u001b[0mchannel\u001b[0m\u001b[0;34m)\u001b[0m\u001b[0;34m\u001b[0m\u001b[0;34m\u001b[0m\u001b[0m\n",
      "\u001b[0;32m~/Twitch-chat-pioneers/chat_listener/twitch_listener/utils.py\u001b[0m in \u001b[0;36msetup_sqllite_loggers\u001b[0;34m(name, log_file, level)\u001b[0m\n\u001b[1;32m     17\u001b[0m \u001b[0;32mdef\u001b[0m \u001b[0msetup_sqllite_loggers\u001b[0m\u001b[0;34m(\u001b[0m\u001b[0mname\u001b[0m\u001b[0;34m,\u001b[0m \u001b[0mlog_file\u001b[0m\u001b[0;34m,\u001b[0m \u001b[0mlevel\u001b[0m\u001b[0;34m=\u001b[0m\u001b[0mlogging\u001b[0m\u001b[0;34m.\u001b[0m\u001b[0mINFO\u001b[0m\u001b[0;34m)\u001b[0m\u001b[0;34m:\u001b[0m\u001b[0;34m\u001b[0m\u001b[0;34m\u001b[0m\u001b[0m\n\u001b[1;32m     18\u001b[0m         \u001b[0mformatter\u001b[0m \u001b[0;34m=\u001b[0m \u001b[0mlogging\u001b[0m\u001b[0;34m.\u001b[0m\u001b[0mFormatter\u001b[0m\u001b[0;34m(\u001b[0m\u001b[0;34m'%(asctime)s — %(message)s'\u001b[0m\u001b[0;34m)\u001b[0m\u001b[0;34m\u001b[0m\u001b[0;34m\u001b[0m\u001b[0m\n\u001b[0;32m---> 19\u001b[0;31m         \u001b[0mhandler\u001b[0m \u001b[0;34m=\u001b[0m \u001b[0mlogging\u001b[0m\u001b[0;34m.\u001b[0m\u001b[0mFileHandler\u001b[0m\u001b[0;34m(\u001b[0m\u001b[0msqlite_handler\u001b[0m\u001b[0;34m.\u001b[0m\u001b[0mSQLiteHandler\u001b[0m\u001b[0;34m(\u001b[0m\u001b[0;34m'db.sqlite3'\u001b[0m\u001b[0;34m)\u001b[0m\u001b[0;34m)\u001b[0m\u001b[0;34m\u001b[0m\u001b[0;34m\u001b[0m\u001b[0m\n\u001b[0m\u001b[1;32m     20\u001b[0m         \u001b[0mhandler\u001b[0m\u001b[0;34m.\u001b[0m\u001b[0msetFormatter\u001b[0m\u001b[0;34m(\u001b[0m\u001b[0mformatter\u001b[0m\u001b[0;34m)\u001b[0m\u001b[0;34m\u001b[0m\u001b[0;34m\u001b[0m\u001b[0m\n\u001b[1;32m     21\u001b[0m \u001b[0;34m\u001b[0m\u001b[0m\n",
      "\u001b[0;32m~/anaconda3/lib/python3.8/logging/__init__.py\u001b[0m in \u001b[0;36m__init__\u001b[0;34m(self, filename, mode, encoding, delay)\u001b[0m\n\u001b[1;32m   1128\u001b[0m         \"\"\"\n\u001b[1;32m   1129\u001b[0m         \u001b[0;31m# Issue #27493: add support for Path objects to be passed in\u001b[0m\u001b[0;34m\u001b[0m\u001b[0;34m\u001b[0m\u001b[0;34m\u001b[0m\u001b[0m\n\u001b[0;32m-> 1130\u001b[0;31m         \u001b[0mfilename\u001b[0m \u001b[0;34m=\u001b[0m \u001b[0mos\u001b[0m\u001b[0;34m.\u001b[0m\u001b[0mfspath\u001b[0m\u001b[0;34m(\u001b[0m\u001b[0mfilename\u001b[0m\u001b[0;34m)\u001b[0m\u001b[0;34m\u001b[0m\u001b[0;34m\u001b[0m\u001b[0m\n\u001b[0m\u001b[1;32m   1131\u001b[0m         \u001b[0;31m#keep the absolute path, otherwise derived classes which use this\u001b[0m\u001b[0;34m\u001b[0m\u001b[0;34m\u001b[0m\u001b[0;34m\u001b[0m\u001b[0m\n\u001b[1;32m   1132\u001b[0m         \u001b[0;31m#may come a cropper when the current directory changes\u001b[0m\u001b[0;34m\u001b[0m\u001b[0;34m\u001b[0m\u001b[0;34m\u001b[0m\u001b[0m\n",
      "\u001b[0;31mTypeError\u001b[0m: expected str, bytes or os.PathLike object, not SQLiteHandler"
     ]
    }
   ],
   "source": [
    "# Scrape live chat data into raw log files. (Duration is seconds)\n",
    "bot.listen(channels_to_listen_to, duration = 10) \n",
    "\n",
    "# Convert log files into .CSV format\n",
    "bot.parse_logs(timestamp = True, file_path = chat_file_path)\n",
    "\n",
    "# Generate adjacency matrix\n",
    "#bot.adj_matrix(weighted = False, matrix_name = \"streamer_network.csv\")"
   ]
  },
  {
   "cell_type": "code",
   "execution_count": 9,
   "id": "ad298c64-c38d-4fa1-a445-247de601d378",
   "metadata": {},
   "outputs": [],
   "source": [
    "from twitch_listener import sqlite_handler\n",
    "import logging\n",
    "\n",
    "logger = logging.getLogger('someLoggerNameLikeDebugOrWhatever')\n",
    "logger.setLevel(logging.DEBUG)\n",
    "logger.addHandler(sqlite_handler.SQLiteHandler('db.sqlite3'))\n",
    "logger.debug('Test 1')\n",
    "logger.warning('Some warning')\n",
    "logger.error('Alarma!')"
   ]
  },
  {
   "cell_type": "code",
   "execution_count": 15,
   "id": "438f7b49",
   "metadata": {},
   "outputs": [
    {
     "data": {
      "text/plain": [
       "[('2022-07-02 20:35:31.639270',\n",
       "  'someLoggerNameLikeDebugOrWhatever',\n",
       "  '/home/w210/Twitch-chat-pioneers/chat_listener/<ipython-input-7-45123b0400f2>',\n",
       "  7,\n",
       "  '<module>',\n",
       "  'DEBUG',\n",
       "  'Test 1'),\n",
       " ('2022-07-02 20:35:31.646185',\n",
       "  'someLoggerNameLikeDebugOrWhatever',\n",
       "  '/home/w210/Twitch-chat-pioneers/chat_listener/<ipython-input-7-45123b0400f2>',\n",
       "  8,\n",
       "  '<module>',\n",
       "  'WARNING',\n",
       "  'Some warning'),\n",
       " ('2022-07-02 20:35:31.649867',\n",
       "  'someLoggerNameLikeDebugOrWhatever',\n",
       "  '/home/w210/Twitch-chat-pioneers/chat_listener/<ipython-input-7-45123b0400f2>',\n",
       "  9,\n",
       "  '<module>',\n",
       "  'ERROR',\n",
       "  'Alarma!'),\n",
       " ('2022-07-02 20:35:35.453260',\n",
       "  'someLoggerNameLikeDebugOrWhatever',\n",
       "  '/home/w210/Twitch-chat-pioneers/chat_listener/<ipython-input-8-45123b0400f2>',\n",
       "  7,\n",
       "  '<module>',\n",
       "  'DEBUG',\n",
       "  'Test 1'),\n",
       " ('2022-07-02 20:35:35.460920',\n",
       "  'someLoggerNameLikeDebugOrWhatever',\n",
       "  '/home/w210/Twitch-chat-pioneers/chat_listener/<ipython-input-8-45123b0400f2>',\n",
       "  7,\n",
       "  '<module>',\n",
       "  'DEBUG',\n",
       "  'Test 1'),\n",
       " ('2022-07-02 20:35:35.465334',\n",
       "  'someLoggerNameLikeDebugOrWhatever',\n",
       "  '/home/w210/Twitch-chat-pioneers/chat_listener/<ipython-input-8-45123b0400f2>',\n",
       "  8,\n",
       "  '<module>',\n",
       "  'WARNING',\n",
       "  'Some warning'),\n",
       " ('2022-07-02 20:35:35.468896',\n",
       "  'someLoggerNameLikeDebugOrWhatever',\n",
       "  '/home/w210/Twitch-chat-pioneers/chat_listener/<ipython-input-8-45123b0400f2>',\n",
       "  8,\n",
       "  '<module>',\n",
       "  'WARNING',\n",
       "  'Some warning'),\n",
       " ('2022-07-02 20:35:35.472575',\n",
       "  'someLoggerNameLikeDebugOrWhatever',\n",
       "  '/home/w210/Twitch-chat-pioneers/chat_listener/<ipython-input-8-45123b0400f2>',\n",
       "  9,\n",
       "  '<module>',\n",
       "  'ERROR',\n",
       "  'Alarma!'),\n",
       " ('2022-07-02 20:35:35.476420',\n",
       "  'someLoggerNameLikeDebugOrWhatever',\n",
       "  '/home/w210/Twitch-chat-pioneers/chat_listener/<ipython-input-8-45123b0400f2>',\n",
       "  9,\n",
       "  '<module>',\n",
       "  'ERROR',\n",
       "  'Alarma!'),\n",
       " ('2022-07-02 20:35:39.009549',\n",
       "  'someLoggerNameLikeDebugOrWhatever',\n",
       "  '/home/w210/Twitch-chat-pioneers/chat_listener/<ipython-input-9-45123b0400f2>',\n",
       "  7,\n",
       "  '<module>',\n",
       "  'DEBUG',\n",
       "  'Test 1'),\n",
       " ('2022-07-02 20:35:39.015950',\n",
       "  'someLoggerNameLikeDebugOrWhatever',\n",
       "  '/home/w210/Twitch-chat-pioneers/chat_listener/<ipython-input-9-45123b0400f2>',\n",
       "  7,\n",
       "  '<module>',\n",
       "  'DEBUG',\n",
       "  'Test 1'),\n",
       " ('2022-07-02 20:35:39.019449',\n",
       "  'someLoggerNameLikeDebugOrWhatever',\n",
       "  '/home/w210/Twitch-chat-pioneers/chat_listener/<ipython-input-9-45123b0400f2>',\n",
       "  7,\n",
       "  '<module>',\n",
       "  'DEBUG',\n",
       "  'Test 1'),\n",
       " ('2022-07-02 20:35:39.023125',\n",
       "  'someLoggerNameLikeDebugOrWhatever',\n",
       "  '/home/w210/Twitch-chat-pioneers/chat_listener/<ipython-input-9-45123b0400f2>',\n",
       "  8,\n",
       "  '<module>',\n",
       "  'WARNING',\n",
       "  'Some warning'),\n",
       " ('2022-07-02 20:35:39.026290',\n",
       "  'someLoggerNameLikeDebugOrWhatever',\n",
       "  '/home/w210/Twitch-chat-pioneers/chat_listener/<ipython-input-9-45123b0400f2>',\n",
       "  8,\n",
       "  '<module>',\n",
       "  'WARNING',\n",
       "  'Some warning'),\n",
       " ('2022-07-02 20:35:39.029760',\n",
       "  'someLoggerNameLikeDebugOrWhatever',\n",
       "  '/home/w210/Twitch-chat-pioneers/chat_listener/<ipython-input-9-45123b0400f2>',\n",
       "  8,\n",
       "  '<module>',\n",
       "  'WARNING',\n",
       "  'Some warning'),\n",
       " ('2022-07-02 20:35:39.033408',\n",
       "  'someLoggerNameLikeDebugOrWhatever',\n",
       "  '/home/w210/Twitch-chat-pioneers/chat_listener/<ipython-input-9-45123b0400f2>',\n",
       "  9,\n",
       "  '<module>',\n",
       "  'ERROR',\n",
       "  'Alarma!'),\n",
       " ('2022-07-02 20:35:39.036512',\n",
       "  'someLoggerNameLikeDebugOrWhatever',\n",
       "  '/home/w210/Twitch-chat-pioneers/chat_listener/<ipython-input-9-45123b0400f2>',\n",
       "  9,\n",
       "  '<module>',\n",
       "  'ERROR',\n",
       "  'Alarma!'),\n",
       " ('2022-07-02 20:35:39.039391',\n",
       "  'someLoggerNameLikeDebugOrWhatever',\n",
       "  '/home/w210/Twitch-chat-pioneers/chat_listener/<ipython-input-9-45123b0400f2>',\n",
       "  9,\n",
       "  '<module>',\n",
       "  'ERROR',\n",
       "  'Alarma!')]"
      ]
     },
     "execution_count": 15,
     "metadata": {},
     "output_type": "execute_result"
    }
   ],
   "source": [
    "import sqlite3\n",
    "conn = sqlite3.connect('db.sqlite3')\n",
    "test = conn.execute('''select * from debug''')\n",
    "test.fetchall()"
   ]
  }
 ],
 "metadata": {
  "environment": {
   "kernel": "python3",
   "name": "common-cpu.m93",
   "type": "gcloud",
   "uri": "gcr.io/deeplearning-platform-release/base-cpu:m93"
  },
  "kernelspec": {
   "display_name": "Python 3",
   "language": "python",
   "name": "python3"
  },
  "language_info": {
   "codemirror_mode": {
    "name": "ipython",
    "version": 3
   },
   "file_extension": ".py",
   "mimetype": "text/x-python",
   "name": "python",
   "nbconvert_exporter": "python",
   "pygments_lexer": "ipython3",
   "version": "3.8.8"
  }
 },
 "nbformat": 4,
 "nbformat_minor": 5
}
