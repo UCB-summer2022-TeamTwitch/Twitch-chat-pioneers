{
 "cells": [
  {
   "cell_type": "code",
   "execution_count": 1,
   "id": "49ee4cf6-89ef-42b6-bef0-f2e6ef974c9c",
   "metadata": {},
   "outputs": [],
   "source": [
    "from twitch_listener import utils\n",
    "from twitch_listener import listener"
   ]
  },
  {
   "cell_type": "code",
   "execution_count": 2,
   "id": "112c4760-2019-48f4-a532-6160ff047a0d",
   "metadata": {},
   "outputs": [],
   "source": [
    "# Connect to Twitch\n",
    "bot = listener.connect_twitch('twitch_pioneers', \n",
    "                             'oauth:zkekfhyhzhdl8ltxs6b8jdez7b2i6b', \n",
    "                             'capstone_pioneers')\n",
    "\n",
    "chat_file_path = '/home/w210/Twitch-chat-pioneers/chat_listener'\n",
    "\n",
    "# List of channels to connect to\n",
    "# Channel names must be lowercase\n",
    "channels_to_listen_to = ['shroud']"
   ]
  },
  {
   "cell_type": "code",
   "execution_count": 3,
   "id": "93212d1c-1efd-4b9f-8b13-b172f6b015fb",
   "metadata": {},
   "outputs": [
    {
     "data": {
      "text/plain": [
       "['shroud']"
      ]
     },
     "execution_count": 3,
     "metadata": {},
     "output_type": "execute_result"
    }
   ],
   "source": [
    "#returns list of live channels\n",
    "utils.is_live(channels_to_listen_to)"
   ]
  },
  {
   "cell_type": "code",
   "execution_count": null,
   "id": "cd363617-e6af-4571-98f2-e234eecf16b6",
   "metadata": {
    "scrolled": false
   },
   "outputs": [
    {
     "name": "stdout",
     "output_type": "stream",
     "text": [
      "236616d2-19bf-4cf2-bdf9-7e5663eac26d\n"
     ]
    }
   ],
   "source": [
    "# Scrape live chat data into raw log files. (Duration is seconds)\n",
    "bot.listen(channels_to_listen_to, duration = 1000000) \n",
    "\n",
    "# Convert log files into .CSV format\n",
    "#bot.parse_logs(timestamp = True, file_path = chat_file_path)\n",
    "\n",
    "# Generate adjacency matrix\n",
    "#bot.adj_matrix(weighted = False, matrix_name = \"streamer_network.csv\")"
   ]
  },
  {
   "cell_type": "code",
   "execution_count": 6,
   "id": "438f7b49",
   "metadata": {},
   "outputs": [],
   "source": [
    "import sqlite3\n",
    "conn = sqlite3.connect('db.sqlite3')"
   ]
  },
  {
   "cell_type": "code",
   "execution_count": 7,
   "id": "d40d6ad0",
   "metadata": {},
   "outputs": [
    {
     "data": {
      "text/plain": [
       "[(16477,)]"
      ]
     },
     "execution_count": 7,
     "metadata": {},
     "output_type": "execute_result"
    }
   ],
   "source": [
    "#test = conn.execute('''drop table if exists hasanabi''')\n",
    "test = conn.execute('''select count(*) from chats_table''')\n",
    "test.fetchall()"
   ]
  },
  {
   "cell_type": "code",
   "execution_count": 6,
   "id": "c4e4a014",
   "metadata": {},
   "outputs": [],
   "source": [
    "from pathlib import Path\n",
    "import re\n",
    "import os\n",
    "def parse_logs(channels = [], timestamp = True, remove_bots = False, file_path = ''):\n",
    "\n",
    "        \"\"\"\n",
    "        Method for converting raw data from text logs into .CSV format.\n",
    "\n",
    "        Parameters:\n",
    "            timestamp (boolean, optional) \n",
    "                - Whether or not to include the timestamp of chat messages. \n",
    "                - Note: timestamps represent when message \n",
    "                    was retrieved, not sent\n",
    "            channels (list, optional)     \n",
    "                - List of channel usernames for whom the text logs \n",
    "                    will be parsed into csv format.\n",
    "                - If none are specified, the channels that are \n",
    "                    currently joined will be parsed\n",
    "            remove_bots (bool, optional)\n",
    "                - Whether or not to exclude messages sent by common bot accounts\n",
    "        \"\"\"\n",
    "\n",
    "        # Check if specific list of channels is given\n",
    "#         if len(channels) == 0:\n",
    "#             try:\n",
    "#                 channels = self.joined\n",
    "#             except:\n",
    "#                 print(\"Please either connect to channels, \\\n",
    "#                       or specify a list of log files to parse.\")\n",
    "                \n",
    "#         if Path(file_path).exists() is False:\n",
    "#             try: \n",
    "#                 os.mkdir(file_path) \n",
    "#             except OSError as error: \n",
    "#                 print(\"Failed to make chats directory\")  \n",
    "        \n",
    "        # Set up regex for hex decoding\n",
    "        ESCAPE_SEQUENCE_RE = re.compile(r'''\n",
    "            ( \\\\U........      # 8-digit hex escapes\n",
    "            | \\\\u....          # 4-digit hex escapes\n",
    "            | \\\\x..            # 2-digit hex escapes\n",
    "            | \\\\[0-7]{1,3}     # Octal escapes\n",
    "            | \\\\N\\{[^}]+\\}     # Unicode characters by name\n",
    "            | \\\\[\\\\'\"abfnrtv]  # Single-character escapes\n",
    "            )''', re.UNICODE | re.VERBOSE)\n",
    "        \n",
    "        def decode_escapes(s):\n",
    "            def decode_match(match):\n",
    "                return codecs.decode(match.group(0), 'unicode-escape')\n",
    "        \n",
    "            return ESCAPE_SEQUENCE_RE.sub(decode_match, s)\n",
    "        \n",
    "        # Check if string given for channe;s\n",
    "        if type(channels) == str:\n",
    "            channels = [channels]\n",
    "            \n",
    "        # Retrieve data from logs\n",
    "        for channel in channels:\n",
    "            if not channel.endswith(\".log\"):\n",
    "                filename = os.getcwd() + '/logs/' + channel + \".log\"\n",
    "            lines = []\n",
    "            with open(filename) as f:\n",
    "                for line in f:\n",
    "                    if line not in lines:\n",
    "                        lines.append(line)\n",
    "                        \n",
    "            # Separate the raw strings into separate messages \n",
    "            split_messages = []\n",
    "            for line in lines:\n",
    "                print(type(line))\n",
    "                count = line.count('.tmi.twitch.tv PRIVMSG #')\n",
    "                entryInfo = 'Your host is tmi.twitch.tv' in line or 'End of /NAMES list\\\\r\\\\n' in line\n",
    "                if entryInfo:\n",
    "                    pass\n",
    "                \n",
    "                elif count == 0:\n",
    "                    pass\n",
    "                elif count == 1 and not entryInfo:\n",
    "                    if line.endswith('\\\\r\\\\n\\'\\n'):\n",
    "                        split_messages.append(line[:-6])\n",
    "                    else:\n",
    "                        split_messages.append(line)     \n",
    "                else:\n",
    "                    for msg in _split_line(line):\n",
    "                        split_messages.append(msg)\n",
    "            # Parse username, message text and (optional) datetime\n",
    "            data = []          \n",
    "            for message in split_messages:\n",
    "                username = None\n",
    "                message_text = None\n",
    "                datetime = None\n",
    "                row = {}\n",
    "                \n",
    "                # Parse message text\n",
    "                hash_channel_point = message.find(\"PRIVMSG #\" + channel)\n",
    "                slice_ = message[hash_channel_point:]\n",
    "                \n",
    "                slice_point = slice_.find(\":\") + 1\n",
    "                message_text = slice_[slice_point:]\n",
    "                decoded_txt = decode_escapes(message_text).encode('latin1').decode('utf-8')\n",
    "                row['text'] = decoded_txt\n",
    "                \n",
    "                # Parse username\n",
    "                b = message.find(\"b\")\n",
    "                exclam = message.find(\"!\")\n",
    "                username = message[b:exclam][3:]\n",
    "                row['username'] = username\n",
    "                \n",
    "                # Parse timestamp \n",
    "                # (note: dates are in weirdo American format)\n",
    "                if timestamp:\n",
    "                    datetime = message[:23] \n",
    "                    row['timestamp'] = datetime\n",
    "            \n",
    "                # Store observations\n",
    "                if remove_bots and row['username'] in self.botlist:\n",
    "                    pass\n",
    "                else:\n",
    "                    data.append(row)\n",
    "            \n",
    "#             # Write data to file\n",
    "#             if len(data) > 0:\n",
    "#                 pd.DataFrame(data).to_csv(file_path + channel + \".csv\", index = False)\n",
    "\n",
    "def _split_line(line, firstLine = False):\n",
    "\n",
    "    prefix = line[:28]        \n",
    "    if firstLine:\n",
    "        line = line.split('End of /NAMES list\\\\r\\\\n')[1]        \n",
    "    splits = [message for ind, message in enumerate(line.split(\"\\\\r\\\\n\")) \n",
    "              if 'PRIVMSG' in message or ind == 0] \n",
    "    for i, case in enumerate(splits):\n",
    "        if firstLine or i != 0:\n",
    "            splits[i] = prefix + splits[i]\n",
    "\n",
    "    return splits"
   ]
  },
  {
   "cell_type": "code",
   "execution_count": 7,
   "id": "add85f50",
   "metadata": {},
   "outputs": [
    {
     "name": "stdout",
     "output_type": "stream",
     "text": [
      "<class 'str'>\n",
      "<class 'str'>\n",
      "<class 'str'>\n",
      "<class 'str'>\n",
      "<class 'str'>\n",
      "<class 'str'>\n",
      "<class 'str'>\n",
      "<class 'str'>\n"
     ]
    }
   ],
   "source": [
    "parse_logs(['hasanabi'], file_path = '/home/w210/Twitch-chat-pioneers/chat_listener')"
   ]
  },
  {
   "cell_type": "code",
   "execution_count": null,
   "id": "acb73ba1",
   "metadata": {},
   "outputs": [],
   "source": []
  }
 ],
 "metadata": {
  "environment": {
   "kernel": "python3",
   "name": "common-cpu.m93",
   "type": "gcloud",
   "uri": "gcr.io/deeplearning-platform-release/base-cpu:m93"
  },
  "kernelspec": {
   "display_name": "Python 3",
   "language": "python",
   "name": "python3"
  },
  "language_info": {
   "codemirror_mode": {
    "name": "ipython",
    "version": 3
   },
   "file_extension": ".py",
   "mimetype": "text/x-python",
   "name": "python",
   "nbconvert_exporter": "python",
   "pygments_lexer": "ipython3",
   "version": "3.8.8"
  }
 },
 "nbformat": 4,
 "nbformat_minor": 5
}
