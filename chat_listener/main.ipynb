{
 "cells": [
  {
   "cell_type": "code",
   "execution_count": 12,
   "id": "49ee4cf6-89ef-42b6-bef0-f2e6ef974c9c",
   "metadata": {},
   "outputs": [],
   "source": [
    "from twitch_listener import utils\n",
    "from twitch_listener import listener"
   ]
  },
  {
   "cell_type": "code",
   "execution_count": 13,
   "id": "04c82d82-0751-4797-b06d-3c508988684d",
   "metadata": {},
   "outputs": [
    {
     "name": "stdout",
     "output_type": "stream",
     "text": [
      "/home/jupyter/Twitch-chat-pioneers/chat_listener\n"
     ]
    }
   ],
   "source": [
    "!pwd"
   ]
  },
  {
   "cell_type": "code",
   "execution_count": 14,
   "id": "112c4760-2019-48f4-a532-6160ff047a0d",
   "metadata": {},
   "outputs": [],
   "source": [
    "# Connect to Twitch\n",
    "bot = listener.connect_twitch('twitch_pioneers', \n",
    "                             'oauth:zkekfhyhzhdl8ltxs6b8jdez7b2i6b', \n",
    "                             'capstone_pioneers')\n",
    "\n",
    "chat_file_path = '/home/jupyter/Twitch-chat-pioneers/chat_listener'\n",
    "\n",
    "# List of channels to connect to\n",
    "# Channel names must be lowercase\n",
    "channels_to_listen_to = ['xqc']"
   ]
  },
  {
   "cell_type": "code",
   "execution_count": 15,
   "id": "93212d1c-1efd-4b9f-8b13-b172f6b015fb",
   "metadata": {},
   "outputs": [
    {
     "data": {
      "text/plain": [
       "[]"
      ]
     },
     "execution_count": 15,
     "metadata": {},
     "output_type": "execute_result"
    }
   ],
   "source": [
    "#returns list of live channels\n",
    "utils.is_live(channels_to_listen_to)"
   ]
  },
  {
   "cell_type": "code",
   "execution_count": 16,
   "id": "cd363617-e6af-4571-98f2-e234eecf16b6",
   "metadata": {},
   "outputs": [],
   "source": [
    "# Scrape live chat data into raw log files. (Duration is seconds)\n",
    "bot.listen(channels_to_listen_to, duration = 2) \n",
    "\n",
    "# Convert log files into .CSV format\n",
    "bot.parse_logs(timestamp = True, file_path = chat_file_path)\n",
    "\n",
    "# Generate adjacency matrix\n",
    "#bot.adj_matrix(weighted = False, matrix_name = \"streamer_network.csv\")"
   ]
  },
  {
   "cell_type": "code",
   "execution_count": null,
   "id": "ad298c64-c38d-4fa1-a445-247de601d378",
   "metadata": {},
   "outputs": [],
   "source": []
  }
 ],
 "metadata": {
  "environment": {
   "kernel": "python3",
   "name": "common-cpu.m93",
   "type": "gcloud",
   "uri": "gcr.io/deeplearning-platform-release/base-cpu:m93"
  },
  "kernelspec": {
   "display_name": "Python 3",
   "language": "python",
   "name": "python3"
  },
  "language_info": {
   "codemirror_mode": {
    "name": "ipython",
    "version": 3
   },
   "file_extension": ".py",
   "mimetype": "text/x-python",
   "name": "python",
   "nbconvert_exporter": "python",
   "pygments_lexer": "ipython3",
   "version": "3.7.12"
  }
 },
 "nbformat": 4,
 "nbformat_minor": 5
}
