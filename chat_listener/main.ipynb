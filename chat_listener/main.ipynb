{
 "cells": [
  {
   "cell_type": "code",
   "execution_count": 1,
   "id": "49ee4cf6-89ef-42b6-bef0-f2e6ef974c9c",
   "metadata": {},
   "outputs": [],
   "source": [
    "from twitch_listener import utils\n",
    "from twitch_listener import listener"
   ]
  },
  {
   "cell_type": "code",
   "execution_count": 2,
   "id": "112c4760-2019-48f4-a532-6160ff047a0d",
   "metadata": {},
   "outputs": [],
   "source": [
    "# Connect to Twitch\n",
    "# bot = listener.connect_twitch('twitch_pioneers', \n",
    "#                              'oauth:lolbsmiac5expvax1iqiysfo18hqi2', \n",
    "#                              '6resxnu2ehi2ggn0kgpue6g12bxtlw',\n",
    "#                              'zkekfhyhzhdl8ltxs6b8jdez7b2i6b')\n",
    "\n",
    "nickname = 'twitch_pioneers'\n",
    "oauth_chat = 'oauth:lolbsmiac5expvax1iqiysfo18hqi2'\n",
    "client_id = '6resxnu2ehi2ggn0kgpue6g12bxtlw'\n",
    "oauth_api = 'Bearer y5o8h4s2fljc1s632ylfrb540npcs0'\n",
    "\n",
    "\n",
    "bot = listener.connect_twitch(nickname, \n",
    "                             oauth_chat, \n",
    "                             client_id,\n",
    "                             oauth_api)\n",
    "\n",
    "chat_file_path = '/home/w210/Twitch-chat-pioneers/chat_listener'\n",
    "\n",
    "# List of channels to connect to\n",
    "# Channel names must be lowercase\n",
    "channels_to_listen_to = ['postmalone','amouranth']"
   ]
  },
  {
   "cell_type": "code",
   "execution_count": 3,
   "id": "93212d1c-1efd-4b9f-8b13-b172f6b015fb",
   "metadata": {},
   "outputs": [
    {
     "name": "stdout",
     "output_type": "stream",
     "text": [
      "{'postmalone': '177782786', 'amouranth': '125387632'}\n"
     ]
    }
   ],
   "source": [
    "#returns list of live channels\n",
    "channels_to_listen_to = utils.is_live(channels_to_listen_to)\n",
    "\n",
    "channels_to_listen_to = utils.get_broadcast_id(channels_to_listen_to, client_id, oauth_api)\n",
    "print(channels_to_listen_to)"
   ]
  },
  {
   "cell_type": "code",
   "execution_count": 4,
   "id": "cd363617-e6af-4571-98f2-e234eecf16b6",
   "metadata": {
    "scrolled": false
   },
   "outputs": [],
   "source": [
    "# Scrape live chat data into raw log files. (Duration is seconds)\n",
    "bot.listen(channels_to_listen_to, duration = 30, until_offline = False, debug = False) \n",
    "\n",
    "# Convert log files into .CSV format\n",
    "#bot.parse_logs(timestamp = True, file_path = chat_file_path)\n",
    "\n",
    "# Generate adjacency matrix\n",
    "#bot.adj_matrix(weighted = False, matrix_name = \"streamer_network.csv\")"
   ]
  },
  {
   "cell_type": "code",
   "execution_count": 5,
   "id": "438f7b49",
   "metadata": {},
   "outputs": [],
   "source": [
    "import sqlite3\n",
    "conn = sqlite3.connect('/home/w210/Twitch-chat-pioneers/src/front_end/db.sqlite3')"
   ]
  },
  {
   "cell_type": "code",
   "execution_count": 8,
   "id": "d40d6ad0",
   "metadata": {},
   "outputs": [
    {
     "data": {
      "text/plain": [
       "[]"
      ]
     },
     "execution_count": 8,
     "metadata": {},
     "output_type": "execute_result"
    }
   ],
   "source": [
    "#test = conn.execute('''drop table if exists chats_table''')\n",
    "test = conn.execute('''select * from chats_table order by date desc limit 100''')\n",
    "#test = conn.execute('''select count(*) from chats_table''')\n",
    "test.fetchall()"
   ]
  },
  {
   "cell_type": "code",
   "execution_count": null,
   "id": "615b63ae",
   "metadata": {},
   "outputs": [],
   "source": []
  }
 ],
 "metadata": {
  "environment": {
   "kernel": "python3",
   "name": "common-cpu.m93",
   "type": "gcloud",
   "uri": "gcr.io/deeplearning-platform-release/base-cpu:m93"
  },
  "kernelspec": {
   "display_name": "Python 3",
   "language": "python",
   "name": "python3"
  },
  "language_info": {
   "codemirror_mode": {
    "name": "ipython",
    "version": 3
   },
   "file_extension": ".py",
   "mimetype": "text/x-python",
   "name": "python",
   "nbconvert_exporter": "python",
   "pygments_lexer": "ipython3",
   "version": "3.8.8"
  }
 },
 "nbformat": 4,
 "nbformat_minor": 5
}
