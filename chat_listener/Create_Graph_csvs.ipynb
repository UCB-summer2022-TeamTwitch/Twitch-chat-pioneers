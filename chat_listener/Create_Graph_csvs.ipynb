{
 "cells": [
  {
   "cell_type": "code",
   "execution_count": 5,
   "id": "8a2b6767",
   "metadata": {},
   "outputs": [],
   "source": [
    "import sqlite3\n",
    "import pandas as pd"
   ]
  },
  {
   "cell_type": "code",
   "execution_count": null,
   "id": "e70588c6",
   "metadata": {},
   "outputs": [],
   "source": []
  },
  {
   "cell_type": "code",
   "execution_count": 11,
   "id": "ff7661b2",
   "metadata": {},
   "outputs": [],
   "source": [
    "path = '/home/w210/Twitch-chat-pioneers/data/processed'\n",
    "channels = ['chenny323','lirik','sweetdreams','shivfps','gmhikaru']\n",
    "conn = sqlite3.connect('../src/front_end/db.sqlite3')\n",
    "for channel in channels:\n",
    "    \n",
    "    sentiment_score_query = \"\"\"select date, avg(message_sentiment) as value\n",
    "                           from chats_table_demo\n",
    "                            where channel_name ='{}'\n",
    "                           group by date\n",
    "                           order by date asc\"\"\".format(channel)\n",
    "\n",
    "    follower_query = \"\"\"select date, avg(follower_count) as value\n",
    "                           from chats_table_demo\n",
    "                            where channel_name ='{}'\n",
    "                           group by date\n",
    "                           order by date asc\"\"\".format(channel)\n",
    "\n",
    "\n",
    "    viewer_query = \"\"\"select date, avg(viewer_count) as value\n",
    "                           from chats_table_demo\n",
    "                            where channel_name ='{}'\n",
    "                           group by date\n",
    "                           order by date asc\"\"\".format(channel)\n",
    "    \n",
    "    sentiment_df = pd.read_sql_query(sentiment_score_query, conn)\n",
    "    follower_df = pd.read_sql_query(follower_query, conn)\n",
    "    viewer_df = pd.read_sql_query(viewer_query, conn)\n",
    "    \n",
    "    sentiment_df.to_csv(path + '/sentiment_values_{}.csv'.format(channel))\n",
    "    follower_df.to_csv(path + '/follower_values_{}.csv'.format(channel))\n",
    "    viewer_df.to_csv(path + '/viewer_values_{}.csv'.format(channel))\n",
    "                      \n",
    "conn.close()"
   ]
  },
  {
   "cell_type": "code",
   "execution_count": 16,
   "id": "c88c4a59",
   "metadata": {},
   "outputs": [
    {
     "data": {
      "text/plain": [
       "[('a2guapo', 'VALORANT', 146, 15),\n",
       " ('chenny323', 'Fall Guys', 8220, 100),\n",
       " ('chenny323', 'Just Chatting', 7414, 63),\n",
       " ('cryocells', 'VALORANT', 665, 39),\n",
       " ('faide', 'Apex Legends', 951, 18),\n",
       " ('gmhikaru', 'Just Chatting', 683, 169),\n",
       " ('jingggxd', 'VALORANT', 1351, 58),\n",
       " ('kiyoon', 'VALORANT', 918, 83),\n",
       " ('lirik', 'Evolve Stage 2', 7426, 178),\n",
       " ('lirik', 'Just Chatting', 31576, 98),\n",
       " ('nats', 'VALORANT', 293, 23),\n",
       " ('shivfps', 'Apex Legends', 3033, 174),\n",
       " ('sweetdreams', 'Apex Legends', 3414, 177),\n",
       " ('xeppaa', 'VALORANT', 275, 7)]"
      ]
     },
     "execution_count": 16,
     "metadata": {},
     "output_type": "execute_result"
    }
   ],
   "source": [
    "#test = conn.execute('''drop table if exists chats_table_demo''')\n",
    "#test = conn.execute('''create table chats_table_test as select * from chats_table_sentiment limit 100''')\n",
    "conn = sqlite3.connect('../src/front_end/db.sqlite3')\n",
    "test = conn.execute('''select channel_name,stream_topic,  count(*), max(stream_length) from chats_table_demo group by channel_name, stream_topic''')\n",
    "output = test.fetchall()\n",
    "conn.close()\n",
    "output"
   ]
  },
  {
   "cell_type": "code",
   "execution_count": 14,
   "id": "41777881",
   "metadata": {},
   "outputs": [
    {
     "data": {
      "text/plain": [
       "[('a2guapo', 'VALORANT', 146),\n",
       " ('faide', 'Apex Legends', 951),\n",
       " ('gmhikaru', 'Just Chatting', 395),\n",
       " ('lirik', 'Evolve Stage 2', 7426),\n",
       " ('lirik', 'Just Chatting', 31576),\n",
       " ('nats', 'VALORANT', 293),\n",
       " ('shivfps', 'Apex Legends', 667),\n",
       " ('sweetdreams', 'Apex Legends', 581),\n",
       " ('xeppaa', 'VALORANT', 275)]"
      ]
     },
     "execution_count": 14,
     "metadata": {},
     "output_type": "execute_result"
    }
   ],
   "source": [
    "conn = sqlite3.connect('../src/front_end/db.sqlite3')\n",
    "test = conn.execute('''select channel_name, stream_topic, count(*) from chats_table_demo where message_sentiment is not NULL group by channel_name, stream_topic ''')\n",
    "output = test.fetchall()\n",
    "conn.close()\n",
    "output"
   ]
  },
  {
   "cell_type": "code",
   "execution_count": 24,
   "id": "aaa79c5e",
   "metadata": {},
   "outputs": [
    {
     "data": {
      "text/plain": [
       "[(28, 9235.285714285714, 73285.5),\n",
       " (21, 9521.142857142857, 71950.85714285714),\n",
       " (101, 20006.465346534653, 26255.48514851485)]"
      ]
     },
     "execution_count": 24,
     "metadata": {},
     "output_type": "execute_result"
    }
   ],
   "source": [
    "test = conn.execute('''select count(*) as messages, \n",
    "                        avg(viewer_count) as avg_viewers,\n",
    "                        avg(subscriber_count) as avg_subscribers\n",
    "                        from chats_table\n",
    "                        group by channel_name, stream_topic, stream_date\n",
    "                        ''')\n",
    "test.fetchall()"
   ]
  },
  {
   "cell_type": "code",
   "execution_count": null,
   "id": "ff7bad0a",
   "metadata": {},
   "outputs": [],
   "source": []
  }
 ],
 "metadata": {
  "environment": {
   "kernel": "python3",
   "name": "common-cpu.m93",
   "type": "gcloud",
   "uri": "gcr.io/deeplearning-platform-release/base-cpu:m93"
  },
  "kernelspec": {
   "display_name": "Python 3",
   "language": "python",
   "name": "python3"
  },
  "language_info": {
   "codemirror_mode": {
    "name": "ipython",
    "version": 3
   },
   "file_extension": ".py",
   "mimetype": "text/x-python",
   "name": "python",
   "nbconvert_exporter": "python",
   "pygments_lexer": "ipython3",
   "version": "3.8.8"
  }
 },
 "nbformat": 4,
 "nbformat_minor": 5
}
