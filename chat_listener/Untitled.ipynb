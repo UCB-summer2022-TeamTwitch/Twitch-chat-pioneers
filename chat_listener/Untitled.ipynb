{
 "cells": [
  {
   "cell_type": "code",
   "execution_count": 19,
   "metadata": {},
   "outputs": [
    {
     "name": "stdout",
     "output_type": "stream",
     "text": [
      "{\"error\":\"Unauthorized\",\"status\":401,\"message\":\"Client ID and OAuth token do not match\"}\n"
     ]
    }
   ],
   "source": [
    "import requests\n",
    "API_ENDPOINT = 'https://api.twitch.tv/helix/streams?user_login=shroud'\n",
    "\n",
    "Client_ID = '7psqxdpqu6mb215u82khfrjnntu8bu'\n",
    "\n",
    "oauth = 'Bearer zkekfhyhzhdl8ltxs6b8jdez7b2i6b'\n",
    "\n",
    "head = {\n",
    "\n",
    "'Client-ID': Client_ID,\n",
    "\n",
    "'Authorization': oauth\n",
    "}\n",
    "\n",
    "r = requests.get(url = API_ENDPOINT, headers = head)\n",
    "\n",
    "print(r.text)"
   ]
  },
  {
   "cell_type": "code",
   "execution_count": null,
   "metadata": {},
   "outputs": [],
   "source": [
    "headers = {\n",
    "    'Client-ID': client_id,\n",
    "    'Authorization': 'Bearer ' + keys['access_token']\n",
    "}\n",
    "\n",
    "print(headers)\n",
    "\n",
    "stream = requests.get('https://api.twitch.tv/helix/streams?user_login=' + streamer_name, headers=headers)"
   ]
  },
  {
   "cell_type": "code",
   "execution_count": 18,
   "metadata": {},
   "outputs": [
    {
     "name": "stdout",
     "output_type": "stream",
     "text": [
      "{'error': 'Unauthorized', 'status': 401, 'message': 'OAuth token is missing'}\n"
     ]
    }
   ],
   "source": [
    "import requests\n",
    "\n",
    "url = \"https://api.twitch.tv/helix/streams\"\n",
    "parameters = {\n",
    "    \"game_id\": \"30921\",\n",
    "    \"language\": \"de\"\n",
    "}\n",
    "headers = {\"Client-ID\": '7psqxdpqu6mb215u82khfrjnntu8bu'}\n",
    "\n",
    "response = requests.get(url, parameters, headers=headers).json()\n",
    "response\n",
    "#top5 = [stream[\"viewer_count\"] for stream in response[\"data\"][:5]]\n",
    "\n",
    "print(response)"
   ]
  },
  {
   "cell_type": "code",
   "execution_count": null,
   "metadata": {},
   "outputs": [],
   "source": []
  }
 ],
 "metadata": {
  "kernelspec": {
   "display_name": "Python 3",
   "language": "python",
   "name": "python3"
  },
  "language_info": {
   "codemirror_mode": {
    "name": "ipython",
    "version": 3
   },
   "file_extension": ".py",
   "mimetype": "text/x-python",
   "name": "python",
   "nbconvert_exporter": "python",
   "pygments_lexer": "ipython3",
   "version": "3.8.6"
  }
 },
 "nbformat": 4,
 "nbformat_minor": 4
}
