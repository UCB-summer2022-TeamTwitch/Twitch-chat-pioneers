{
 "cells": [
  {
   "cell_type": "code",
   "execution_count": 2,
   "metadata": {},
   "outputs": [
    {
     "name": "stdout",
     "output_type": "stream",
     "text": [
      "Collecting twitch_listener\n",
      "  Downloading twitch_listener-1.2.1.tar.gz (5.0 kB)\n",
      "Requirement already satisfied: pandas in /Users/gauriganjoo1/anaconda3/lib/python3.8/site-packages (from twitch_listener) (1.2.1)\n",
      "Requirement already satisfied: requests in /Users/gauriganjoo1/anaconda3/lib/python3.8/site-packages (from twitch_listener) (2.27.1)\n",
      "Requirement already satisfied: python-dateutil>=2.7.3 in /Users/gauriganjoo1/anaconda3/lib/python3.8/site-packages (from pandas->twitch_listener) (2.8.2)\n",
      "Requirement already satisfied: pytz>=2017.3 in /Users/gauriganjoo1/anaconda3/lib/python3.8/site-packages (from pandas->twitch_listener) (2022.1)\n",
      "Requirement already satisfied: numpy>=1.16.5 in /Users/gauriganjoo1/anaconda3/lib/python3.8/site-packages (from pandas->twitch_listener) (1.19.2)\n",
      "Requirement already satisfied: six>=1.5 in /Users/gauriganjoo1/anaconda3/lib/python3.8/site-packages (from python-dateutil>=2.7.3->pandas->twitch_listener) (1.15.0)\n",
      "Requirement already satisfied: idna<4,>=2.5 in /Users/gauriganjoo1/anaconda3/lib/python3.8/site-packages (from requests->twitch_listener) (2.10)\n",
      "Requirement already satisfied: certifi>=2017.4.17 in /Users/gauriganjoo1/anaconda3/lib/python3.8/site-packages (from requests->twitch_listener) (2020.12.5)\n",
      "Requirement already satisfied: urllib3<1.27,>=1.21.1 in /Users/gauriganjoo1/anaconda3/lib/python3.8/site-packages (from requests->twitch_listener) (1.26.3)\n",
      "Requirement already satisfied: charset-normalizer~=2.0.0 in /Users/gauriganjoo1/anaconda3/lib/python3.8/site-packages (from requests->twitch_listener) (2.0.12)\n",
      "Building wheels for collected packages: twitch-listener\n",
      "  Building wheel for twitch-listener (setup.py) ... \u001b[?25ldone\n",
      "\u001b[?25h  Created wheel for twitch-listener: filename=twitch_listener-1.2.1-py3-none-any.whl size=5679 sha256=83e5028a531d584f1c67b5de6ba6c0ab37e3976dd55b15ad7ad5a0fd39cd978a\n",
      "  Stored in directory: /Users/gauriganjoo1/Library/Caches/pip/wheels/51/db/3d/aa410e8ed7c032bfb5177b6f9a3b4e86a59d3af4273b90f1c4\n",
      "Successfully built twitch-listener\n",
      "Installing collected packages: twitch-listener\n",
      "Successfully installed twitch-listener-1.2.1\n"
     ]
    }
   ],
   "source": [
    "!pip install twitch_listener"
   ]
  },
  {
   "cell_type": "code",
   "execution_count": 2,
   "metadata": {},
   "outputs": [
    {
     "ename": "UnicodeDecodeError",
     "evalue": "'utf-8' codec can't decode byte 0xf0 in position 845: invalid continuation byte",
     "output_type": "error",
     "traceback": [
      "\u001b[0;31m---------------------------------------------------------------------------\u001b[0m",
      "\u001b[0;31mUnicodeDecodeError\u001b[0m                        Traceback (most recent call last)",
      "\u001b[0;32m<ipython-input-2-eb10b0287fce>\u001b[0m in \u001b[0;36m<module>\u001b[0;34m\u001b[0m\n\u001b[1;32m     14\u001b[0m \u001b[0;34m\u001b[0m\u001b[0m\n\u001b[1;32m     15\u001b[0m \u001b[0;31m# Convert log files into .CSV format\u001b[0m\u001b[0;34m\u001b[0m\u001b[0;34m\u001b[0m\u001b[0;34m\u001b[0m\u001b[0m\n\u001b[0;32m---> 16\u001b[0;31m \u001b[0mbot\u001b[0m\u001b[0;34m.\u001b[0m\u001b[0mparse_logs\u001b[0m\u001b[0;34m(\u001b[0m\u001b[0mtimestamp\u001b[0m \u001b[0;34m=\u001b[0m \u001b[0;32mTrue\u001b[0m\u001b[0;34m)\u001b[0m\u001b[0;34m\u001b[0m\u001b[0;34m\u001b[0m\u001b[0m\n\u001b[0m\u001b[1;32m     17\u001b[0m \u001b[0;34m\u001b[0m\u001b[0m\n\u001b[1;32m     18\u001b[0m \u001b[0;31m# Generate adjacency matrix\u001b[0m\u001b[0;34m\u001b[0m\u001b[0;34m\u001b[0m\u001b[0;34m\u001b[0m\u001b[0m\n",
      "\u001b[0;32m~/anaconda3/lib/python3.8/site-packages/twitch_listener/listener.py\u001b[0m in \u001b[0;36mparse_logs\u001b[0;34m(self, channels, timestamp, remove_bots)\u001b[0m\n\u001b[1;32m    202\u001b[0m                 \u001b[0mslice_point\u001b[0m \u001b[0;34m=\u001b[0m \u001b[0mslice_\u001b[0m\u001b[0;34m.\u001b[0m\u001b[0mfind\u001b[0m\u001b[0;34m(\u001b[0m\u001b[0;34m\":\"\u001b[0m\u001b[0;34m)\u001b[0m \u001b[0;34m+\u001b[0m \u001b[0;36m1\u001b[0m\u001b[0;34m\u001b[0m\u001b[0;34m\u001b[0m\u001b[0m\n\u001b[1;32m    203\u001b[0m                 \u001b[0mmessage_text\u001b[0m \u001b[0;34m=\u001b[0m \u001b[0mslice_\u001b[0m\u001b[0;34m[\u001b[0m\u001b[0mslice_point\u001b[0m\u001b[0;34m:\u001b[0m\u001b[0;34m]\u001b[0m\u001b[0;34m\u001b[0m\u001b[0;34m\u001b[0m\u001b[0m\n\u001b[0;32m--> 204\u001b[0;31m                 \u001b[0mdecoded_txt\u001b[0m \u001b[0;34m=\u001b[0m \u001b[0mdecode_escapes\u001b[0m\u001b[0;34m(\u001b[0m\u001b[0mmessage_text\u001b[0m\u001b[0;34m)\u001b[0m\u001b[0;34m.\u001b[0m\u001b[0mencode\u001b[0m\u001b[0;34m(\u001b[0m\u001b[0;34m'latin1'\u001b[0m\u001b[0;34m)\u001b[0m\u001b[0;34m.\u001b[0m\u001b[0mdecode\u001b[0m\u001b[0;34m(\u001b[0m\u001b[0;34m'utf-8'\u001b[0m\u001b[0;34m)\u001b[0m\u001b[0;34m\u001b[0m\u001b[0;34m\u001b[0m\u001b[0m\n\u001b[0m\u001b[1;32m    205\u001b[0m                 \u001b[0mrow\u001b[0m\u001b[0;34m[\u001b[0m\u001b[0;34m'text'\u001b[0m\u001b[0;34m]\u001b[0m \u001b[0;34m=\u001b[0m \u001b[0mdecoded_txt\u001b[0m\u001b[0;34m\u001b[0m\u001b[0;34m\u001b[0m\u001b[0m\n\u001b[1;32m    206\u001b[0m \u001b[0;34m\u001b[0m\u001b[0m\n",
      "\u001b[0;31mUnicodeDecodeError\u001b[0m: 'utf-8' codec can't decode byte 0xf0 in position 845: invalid continuation byte"
     ]
    }
   ],
   "source": [
    "from twitch_listener import listener\n",
    "\n",
    "# Connect to Twitch\n",
    "bot = listener.connect_twitch('twitch_pioneers', \n",
    "                             'oauth:zkekfhyhzhdl8ltxs6b8jdez7b2i6b', \n",
    "                             'capstone_pioneers')\n",
    "\n",
    "# List of channels to connect to\n",
    "# Channel names must be lowercase\n",
    "channels_to_listen_to = ['xqc']\n",
    "\n",
    "# Scrape live chat data into raw log files. (Duration is seconds)\n",
    "bot.listen(channels_to_listen_to, duration = 90) \n",
    "\n",
    "# Convert log files into .CSV format\n",
    "bot.parse_logs(timestamp = True)\n",
    "\n",
    "# Generate adjacency matrix\n",
    "bot.adj_matrix(weighted = False, matrix_name = \"streamer_network.csv\")"
   ]
  },
  {
   "cell_type": "code",
   "execution_count": null,
   "metadata": {},
   "outputs": [],
   "source": []
  }
 ],
 "metadata": {
  "kernelspec": {
   "display_name": "Python 3",
   "language": "python",
   "name": "python3"
  },
  "language_info": {
   "codemirror_mode": {
    "name": "ipython",
    "version": 3
   },
   "file_extension": ".py",
   "mimetype": "text/x-python",
   "name": "python",
   "nbconvert_exporter": "python",
   "pygments_lexer": "ipython3",
   "version": "3.8.5"
  }
 },
 "nbformat": 4,
 "nbformat_minor": 4
}
