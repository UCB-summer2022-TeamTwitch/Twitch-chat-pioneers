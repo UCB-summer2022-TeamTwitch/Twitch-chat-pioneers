{
 "cells": [
  {
   "cell_type": "code",
   "execution_count": 2,
   "metadata": {},
   "outputs": [
    {
     "name": "stdout",
     "output_type": "stream",
     "text": [
      "There are 1 file(s) in the sub-folder.\n"
     ]
    }
   ],
   "source": [
    "import os \n",
    "import pandas as pd\n",
    "import copy\n",
    "\n",
    "files = []  \n",
    "file_name = []\n",
    "path = r'C:\\Users\\alebo\\Desktop\\Berkeley\\210\\Dummy'\n",
    "with os.scandir(path) as entries:\n",
    "    for entry in entries:\n",
    "        files.append(entry.name)\n",
    "\n",
    "for i in range(0, len(files)):  \n",
    "    file_name.append(files[i])\n",
    "    files[i] = path + \"/\" + files[i]\n",
    "\n",
    "\n",
    "print(f'There are {len(files)} file(s) in the sub-folder.')"
   ]
  },
  {
   "cell_type": "code",
   "execution_count": 4,
   "metadata": {},
   "outputs": [
    {
     "name": "stdout",
     "output_type": "stream",
     "text": [
      "C:\\Users\\alebo\\Desktop\\Berkeley\\210\\Dummy/DummyData.xlsx\n"
     ]
    },
    {
     "data": {
      "text/html": [
       "<div>\n",
       "<style scoped>\n",
       "    .dataframe tbody tr th:only-of-type {\n",
       "        vertical-align: middle;\n",
       "    }\n",
       "\n",
       "    .dataframe tbody tr th {\n",
       "        vertical-align: top;\n",
       "    }\n",
       "\n",
       "    .dataframe thead th {\n",
       "        text-align: right;\n",
       "    }\n",
       "</style>\n",
       "<table border=\"1\" class=\"dataframe\">\n",
       "  <thead>\n",
       "    <tr style=\"text-align: right;\">\n",
       "      <th></th>\n",
       "      <th>Part ID</th>\n",
       "      <th>Categories</th>\n",
       "      <th>Mean Views</th>\n",
       "      <th>Followers By End</th>\n",
       "      <th>Subs Gained</th>\n",
       "      <th>Mean Sentiment</th>\n",
       "      <th>Time</th>\n",
       "    </tr>\n",
       "  </thead>\n",
       "  <tbody>\n",
       "    <tr>\n",
       "      <th>0</th>\n",
       "      <td>0</td>\n",
       "      <td>Just Chatting</td>\n",
       "      <td>875</td>\n",
       "      <td>300</td>\n",
       "      <td>3</td>\n",
       "      <td>0.55</td>\n",
       "      <td>65</td>\n",
       "    </tr>\n",
       "    <tr>\n",
       "      <th>1</th>\n",
       "      <td>1</td>\n",
       "      <td>TFT</td>\n",
       "      <td>915</td>\n",
       "      <td>318</td>\n",
       "      <td>4</td>\n",
       "      <td>0.20</td>\n",
       "      <td>55</td>\n",
       "    </tr>\n",
       "    <tr>\n",
       "      <th>2</th>\n",
       "      <td>2</td>\n",
       "      <td>Just Chatting</td>\n",
       "      <td>900</td>\n",
       "      <td>325</td>\n",
       "      <td>2</td>\n",
       "      <td>0.35</td>\n",
       "      <td>34</td>\n",
       "    </tr>\n",
       "    <tr>\n",
       "      <th>3</th>\n",
       "      <td>3</td>\n",
       "      <td>TFT</td>\n",
       "      <td>930</td>\n",
       "      <td>342</td>\n",
       "      <td>3</td>\n",
       "      <td>0.28</td>\n",
       "      <td>58</td>\n",
       "    </tr>\n",
       "    <tr>\n",
       "      <th>4</th>\n",
       "      <td>4</td>\n",
       "      <td>Project Zomboid</td>\n",
       "      <td>1100</td>\n",
       "      <td>370</td>\n",
       "      <td>5</td>\n",
       "      <td>-0.10</td>\n",
       "      <td>95</td>\n",
       "    </tr>\n",
       "  </tbody>\n",
       "</table>\n",
       "</div>"
      ],
      "text/plain": [
       "   Part ID       Categories  Mean Views  Followers By End  Subs Gained  \\\n",
       "0        0    Just Chatting         875               300            3   \n",
       "1        1              TFT         915               318            4   \n",
       "2        2    Just Chatting         900               325            2   \n",
       "3        3              TFT         930               342            3   \n",
       "4        4  Project Zomboid        1100               370            5   \n",
       "\n",
       "   Mean Sentiment  Time  \n",
       "0            0.55    65  \n",
       "1            0.20    55  \n",
       "2            0.35    34  \n",
       "3            0.28    58  \n",
       "4           -0.10    95  "
      ]
     },
     "execution_count": 4,
     "metadata": {},
     "output_type": "execute_result"
    }
   ],
   "source": [
    "pof = files[0]\n",
    "xlsx = pd.ExcelFile(pof)\n",
    "sheets = xlsx.sheet_names\n",
    "\n",
    "data_df = pd.read_excel(xlsx, index_col=None, na_values=\"NA\")\n",
    "\n",
    "data_df"
   ]
  },
  {
   "cell_type": "code",
   "execution_count": 25,
   "metadata": {},
   "outputs": [],
   "source": [
    "columns = data_df.columns\n",
    "columns = columns.tolist()\n",
    "columns = columns[2:6]\n",
    "\n",
    "for col in columns:\n",
    "\n",
    "    norm_data = data_df[col].tolist()\n",
    "    min_val = min(norm_data)\n",
    "    max_val = max(norm_data)\n",
    "\n",
    "    for i in range(len(norm_data)):\n",
    "        norm_data[i] = (norm_data[i] - min_val) / (max_val - min_val)\n",
    "\n",
    "    data_df[col] = norm_data\n"
   ]
  },
  {
   "cell_type": "code",
   "execution_count": 37,
   "metadata": {},
   "outputs": [
    {
     "name": "stdout",
     "output_type": "stream",
     "text": [
      "Given the stream performance, we recommend continuing to stream the following category: Just Chatting\n"
     ]
    }
   ],
   "source": [
    "def recommendation(row):\n",
    "    '''\n",
    "    Basic recommendation engine. Each normalized category divided by the seconds spent times the weight. \n",
    "    \n",
    "    Current weight configuration: \n",
    "    35% Sentiment Value\n",
    "    30% Subs Gained\n",
    "    25% Followers Gained\n",
    "    10% Views\n",
    "    '''\n",
    "    value = (0.10 * (row['Mean Views'])/row['Time']) + (0.25 * (row['Followers By End'])/row['Time']) + (0.30 * (row['Subs Gained'])/row['Time']) + (0.35 * (row['Mean Sentiment'])/row['Time'])\n",
    "    return value\n",
    "\n",
    "data_df['Scores'] = data_df.apply(recommendation, axis = 1)\n",
    "\n",
    "rec_cat = data_df[data_df['Scores'] == data_df['Scores'].max()]['Categories'].tolist()[0]\n",
    "\n",
    "#data_df[data_df['Scores'] == data_df['Scores'].max()]['Categories'].tolist()\n",
    "print(f'Given the stream performance, we recommend continuing to stream the following category: {rec_cat}')"
   ]
  },
  {
   "cell_type": "code",
   "execution_count": 36,
   "metadata": {},
   "outputs": [
    {
     "name": "stdout",
     "output_type": "stream",
     "text": [
      "0.0\n"
     ]
    }
   ],
   "source": []
  },
  {
   "cell_type": "code",
   "execution_count": null,
   "metadata": {},
   "outputs": [],
   "source": []
  }
 ],
 "metadata": {
  "kernelspec": {
   "display_name": "Python 3.8.5 ('base')",
   "language": "python",
   "name": "python3"
  },
  "language_info": {
   "codemirror_mode": {
    "name": "ipython",
    "version": 3
   },
   "file_extension": ".py",
   "mimetype": "text/x-python",
   "name": "python",
   "nbconvert_exporter": "python",
   "pygments_lexer": "ipython3",
   "version": "3.8.5"
  },
  "orig_nbformat": 4,
  "vscode": {
   "interpreter": {
    "hash": "a4bdb5fc2bdb6d55b92fcc981eaa09004af695a619fc7c1db60b56abf342bb7b"
   }
  }
 },
 "nbformat": 4,
 "nbformat_minor": 2
}
