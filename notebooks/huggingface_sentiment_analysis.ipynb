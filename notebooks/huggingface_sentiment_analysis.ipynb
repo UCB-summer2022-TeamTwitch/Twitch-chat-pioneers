{
 "cells": [
  {
   "cell_type": "code",
   "execution_count": 1,
   "metadata": {},
   "outputs": [
    {
     "name": "stderr",
     "output_type": "stream",
     "text": [
      "Some weights of the model checkpoint at cardiffnlp/twitter-roberta-base-sentiment-latest were not used when initializing RobertaForSequenceClassification: ['roberta.pooler.dense.weight', 'roberta.pooler.dense.bias']\n",
      "- This IS expected if you are initializing RobertaForSequenceClassification from the checkpoint of a model trained on another task or with another architecture (e.g. initializing a BertForSequenceClassification model from a BertForPreTraining model).\n",
      "- This IS NOT expected if you are initializing RobertaForSequenceClassification from the checkpoint of a model that you expect to be exactly identical (initializing a BertForSequenceClassification model from a BertForSequenceClassification model).\n"
     ]
    }
   ],
   "source": [
    "from transformers import pipeline\n",
    "\n",
    "classifier = pipeline(\"sentiment-analysis\", model=\"cardiffnlp/twitter-roberta-base-sentiment-latest\")\n",
    "\n",
    "## using RoBERTa trained on twitter sentiment analysis: \n",
    "## https://huggingface.co/cardiffnlp/twitter-roberta-base-sentiment-latest"
   ]
  },
  {
   "cell_type": "code",
   "execution_count": 27,
   "metadata": {},
   "outputs": [
    {
     "data": {
      "text/plain": [
       "[{'label': 'Positive', 'score': 0.985775887966156},\n",
       " {'label': 'Neutral', 'score': 0.9331138730049133},\n",
       " {'label': 'Positive', 'score': 0.667307436466217}]"
      ]
     },
     "execution_count": 27,
     "metadata": {},
     "output_type": "execute_result"
    }
   ],
   "source": [
    "classifier([\"We are very happy to show you the 🤗 Transformers library.\", \n",
    "            \"Now Playing: JAI - VIP Mix by Finesu -> ***\",\n",
    "            \"I kind of like you\"])"
   ]
  },
  {
   "cell_type": "code",
   "execution_count": 2,
   "metadata": {},
   "outputs": [],
   "source": [
    "import pandas as pd \n",
    "text_df = pd.read_csv('../data/Fact Tables/EmoteFactTable.csv')"
   ]
  },
  {
   "cell_type": "code",
   "execution_count": 3,
   "metadata": {},
   "outputs": [
    {
     "data": {
      "text/html": [
       "<div>\n",
       "<style scoped>\n",
       "    .dataframe tbody tr th:only-of-type {\n",
       "        vertical-align: middle;\n",
       "    }\n",
       "\n",
       "    .dataframe tbody tr th {\n",
       "        vertical-align: top;\n",
       "    }\n",
       "\n",
       "    .dataframe thead th {\n",
       "        text-align: right;\n",
       "    }\n",
       "</style>\n",
       "<table border=\"1\" class=\"dataframe\">\n",
       "  <thead>\n",
       "    <tr style=\"text-align: right;\">\n",
       "      <th></th>\n",
       "      <th>ID</th>\n",
       "      <th>Emote</th>\n",
       "      <th>Definition 1</th>\n",
       "      <th>Racism Implication?</th>\n",
       "    </tr>\n",
       "  </thead>\n",
       "  <tbody>\n",
       "    <tr>\n",
       "      <th>0</th>\n",
       "      <td>1</td>\n",
       "      <td>Kappa</td>\n",
       "      <td>Kappa is a Twitch emote that is generally used...</td>\n",
       "      <td>0</td>\n",
       "    </tr>\n",
       "    <tr>\n",
       "      <th>1</th>\n",
       "      <td>2</td>\n",
       "      <td>LUL</td>\n",
       "      <td>The acronym LUL stands for “Lame Uncomfortable...</td>\n",
       "      <td>0</td>\n",
       "    </tr>\n",
       "    <tr>\n",
       "      <th>2</th>\n",
       "      <td>3</td>\n",
       "      <td>TriHard</td>\n",
       "      <td>The TriHard Twitch emote was created to be use...</td>\n",
       "      <td>1</td>\n",
       "    </tr>\n",
       "    <tr>\n",
       "      <th>3</th>\n",
       "      <td>4</td>\n",
       "      <td>PogChamp</td>\n",
       "      <td>The PogChamp emote is used to express surprise...</td>\n",
       "      <td>0</td>\n",
       "    </tr>\n",
       "    <tr>\n",
       "      <th>4</th>\n",
       "      <td>5</td>\n",
       "      <td>Pog</td>\n",
       "      <td>The PogChamp emote is used to express surprise...</td>\n",
       "      <td>0</td>\n",
       "    </tr>\n",
       "    <tr>\n",
       "      <th>...</th>\n",
       "      <td>...</td>\n",
       "      <td>...</td>\n",
       "      <td>...</td>\n",
       "      <td>...</td>\n",
       "    </tr>\n",
       "    <tr>\n",
       "      <th>63</th>\n",
       "      <td>64</td>\n",
       "      <td>3Head</td>\n",
       "      <td>Used when someone says something cheesy, such ...</td>\n",
       "      <td>0</td>\n",
       "    </tr>\n",
       "    <tr>\n",
       "      <th>64</th>\n",
       "      <td>65</td>\n",
       "      <td>YEP</td>\n",
       "      <td>An insincere smile that many people use in sit...</td>\n",
       "      <td>0</td>\n",
       "    </tr>\n",
       "    <tr>\n",
       "      <th>65</th>\n",
       "      <td>66</td>\n",
       "      <td>Pepega</td>\n",
       "      <td>It is based on the Pepe the Frog character and...</td>\n",
       "      <td>0</td>\n",
       "    </tr>\n",
       "    <tr>\n",
       "      <th>66</th>\n",
       "      <td>67</td>\n",
       "      <td>KKona</td>\n",
       "      <td>The KKona Twitch emote is most commonly used a...</td>\n",
       "      <td>0</td>\n",
       "    </tr>\n",
       "    <tr>\n",
       "      <th>67</th>\n",
       "      <td>68</td>\n",
       "      <td>FeelsBirthdayMan</td>\n",
       "      <td>The FeelsBirthdayMan emote is used when celebr...</td>\n",
       "      <td>0</td>\n",
       "    </tr>\n",
       "  </tbody>\n",
       "</table>\n",
       "<p>68 rows × 4 columns</p>\n",
       "</div>"
      ],
      "text/plain": [
       "    ID             Emote                                       Definition 1  \\\n",
       "0    1             Kappa  Kappa is a Twitch emote that is generally used...   \n",
       "1    2               LUL  The acronym LUL stands for “Lame Uncomfortable...   \n",
       "2    3           TriHard  The TriHard Twitch emote was created to be use...   \n",
       "3    4          PogChamp  The PogChamp emote is used to express surprise...   \n",
       "4    5               Pog  The PogChamp emote is used to express surprise...   \n",
       "..  ..               ...                                                ...   \n",
       "63  64             3Head  Used when someone says something cheesy, such ...   \n",
       "64  65               YEP  An insincere smile that many people use in sit...   \n",
       "65  66            Pepega  It is based on the Pepe the Frog character and...   \n",
       "66  67             KKona  The KKona Twitch emote is most commonly used a...   \n",
       "67  68  FeelsBirthdayMan  The FeelsBirthdayMan emote is used when celebr...   \n",
       "\n",
       "    Racism Implication?  \n",
       "0                     0  \n",
       "1                     0  \n",
       "2                     1  \n",
       "3                     0  \n",
       "4                     0  \n",
       "..                  ...  \n",
       "63                    0  \n",
       "64                    0  \n",
       "65                    0  \n",
       "66                    0  \n",
       "67                    0  \n",
       "\n",
       "[68 rows x 4 columns]"
      ]
     },
     "execution_count": 3,
     "metadata": {},
     "output_type": "execute_result"
    }
   ],
   "source": [
    "text_df"
   ]
  },
  {
   "cell_type": "code",
   "execution_count": 4,
   "metadata": {},
   "outputs": [],
   "source": [
    "twitch_chats = text_df['Definition 1'].tolist()"
   ]
  },
  {
   "cell_type": "code",
   "execution_count": 8,
   "metadata": {},
   "outputs": [
    {
     "data": {
      "text/plain": [
       "['Kappa is a Twitch emote that is generally used to relay sarcasm or as an “eye-roll” response to something the Twitch streamer says or does on screen. Known as a “troll” emote, Kappa is often spammed in chat when someone is sarcastic or checking to see if they have the Golden Kappa.',\n",
       " 'The acronym LUL stands for “Lame Uncomfortable Laugh.” The LUL Twitch emote is used to express laughter and joy and depicts the late streamer, TotalBuscuit. It is often used on Twitch in the same way that you would use a laugh emote when messaging friends on other platforms.',\n",
       " 'The TriHard Twitch emote was created to be used when something exciting is happening on the screen or to help generate hype in a channel. It is the image of the streamer Trihex smiling. Use it when you’re hyped or when the streamer does something exciting.',\n",
       " 'The PogChamp emote is used to express surprise or excitement',\n",
       " 'The PogChamp emote is used to express surprise or excitement',\n",
       " 'The PogChamp emote is used to express surprise or excitement',\n",
       " 'MonkaS is an emote that is often used in Twitch chat when the streamer is going through intense or stressful gameplay moments. It is often spammed to express anxiety when the streamer is upset or worried.',\n",
       " 'VoHiYo is known by Twitch viewers as the “Weeb” (Weeaboo) emote. VoHiYo has often been used to either refer to someone as a weeb or in reference to anime in general. Others use it to say “Hello” as it was originally intended or at the end of a technical explanation.',\n",
       " 'The emote is used as a laugh emote on Twitch.',\n",
       " 'The PepeLaugh emote is often accompanied by the phrase “Here it comes.” It is used as a laugh emote similar to LUL or the crying laughter emoji due to the image’s teary eyes.',\n",
       " 'The\\xa04Head emote is used in response to jokes or memes. It can be used in both a sincere and in a sarcastic way and is often used after someone uses a dad joke or says something cheesy. People should be able to tell its usage with context.',\n",
       " 'The 5Head emote is used when the chat, or viewers of a Twitch channel, want to tell the streamer that his statement or gameplay is very smart.',\n",
       " 'The CmonBruh emote is used as a look of confusion or as a response to racist comments.\\xa0It is often used when someone in Twitch chat says something controversial or confusing.',\n",
       " 'The term is often used when boobs are showcased on the screen or as a way to call out or mock people who are hornyposting.',\n",
       " 'The Twitch heart emote is a “Twitch purple” colored heart. It is used to express love, happiness, unity, gratitude, or empathy.',\n",
       " 'It is commonly used on Twitch to express cringe or nervous laughter when something strangely weird happens on stream or in Twitch chat.',\n",
       " 'The SourPLS emote is used on Twitch to represent dancing or celebration. It is usually posted when someone is excited or happy about an event. It is also used as a hype emote. The happiness and joy presented in the emote are contagious.',\n",
       " 'Often spammed when a streamer finds themself in an intense situation. It can also be used as mock worry.',\n",
       " 'This emote is used in Twitch chat when the streamer chooses to build up suspense or there is a feeling of anticipation in the chat.',\n",
       " '4Weird is used when something strange is happening that causes you to feel weird or become weirded out. It is typically used when someone says something that seems odd, stupid, or disturbing.',\n",
       " 'The Sadge meaning is no different. It can be used when another member of the community types that a loved one died yesterday or it can be used at the end of a statement that is a bit cringe mixed with an ironic sense of humor.',\n",
       " 'The gachiGASM emote is used when someone is intensely satisfied or pleased with an event on stream. It is also used as a meme reaction to attraction or suggestive content.',\n",
       " 'The PepeHands emote is used on Twitch when a user is trying to signify sadness (or pretending to be sad) or when the streamer seems upset about something. It is used in the same ways that a sad emote can be used.',\n",
       " 'The Jebaited emote is used when people are baiting for gaming tips or other information.\\xa0It is also used after a streamer has been Rick-Rolled or when someone trolls the streamer into an obvious joke.',\n",
       " 'It is used when a streamer does something cool or exciting.',\n",
       " 'The MingLee emote is used on Twitch to insinuate laughter or general sassiness. It can also be used in the same way that a general smiling or laughing emote can be used.',\n",
       " 'The WeirdChamp emote is used when someone is disappointed or feels let down, usually from something the streamer has said or done. It is also used when somebody says something that seems unbelievable.',\n",
       " 'Used when someone is trying to convey anxiety, horror, or shock due to something that is happening on stream or in chat.',\n",
       " 'Is used to identify oneself as either a part of the LGBTQ+ community or in support of it.',\n",
       " 'This means they are upset, frustrated, or bitter about an event that happened on stream, in the chat, or even in a real-life situation.',\n",
       " 'It is generally used when someone surrenders after an argument or sees that the streamer has been beaten when it comes to strategy.',\n",
       " 'Is used on Twitch to “bless a stream” in a tongue-in-cheek way or along with a religious reference.',\n",
       " 'Is used on Twitch when something on the stream is going terribly wrong or if a chatter tells a story about a rough event in their real-life or in their own gameplay. It is the perfect emote to use when things just seem to not be going your way.',\n",
       " 'Is used to express sadness or disappointment, either when the user is truly sad or meming.',\n",
       " 'Used on Twitch when someone is being obnoxious, mean, or speaking in all caps.',\n",
       " 'Is used on Twitch if a channel is suspected of view botting or bringing in fake followers to the channel.',\n",
       " 'Is used when someone is expressing that they are thinking about something or contemplating a decision.',\n",
       " 'Is used when someone fails at a task or fails in general. It is often used when the streamer makes a mistake in the game that results in a death or having to redo a portion of the work.',\n",
       " 'Is used on Twitch as a greeting to say “hello” or “Hey Guys.” Many people use it when they first arrive at a channel to greet the streamer and other viewers in the chat.',\n",
       " 'Is typically used on Twitch when a streamer or chat user is going on about the double standards in society, getting special favors due to their gender, or acting like a simp. It is typically seen as an anti-sjw emote.',\n",
       " 'It is used when someone is very happy with something they have just witnessed on the stream.',\n",
       " 'It is generally used in relation to talking about Twitch, as it is the image of the PR director of Twitch, a man named Chase. It can also be used as a general smiling emote.',\n",
       " 'Is used on Twitch to state that something is hot (really, really cool). You will often see it spammed as part of a hype situation along with other hype emotes.',\n",
       " 'Is used when something sad or discouraging happens or if you are disappointed or failed at a small task.',\n",
       " 'It is used when something good is happening on stream or when your opponent fails.',\n",
       " 'The Kreygasm Twitch emote is used as a shocked, surprised, or as an excited expression, such as “Wow” or “Holy Crap.” It is also used when something suggestive is said on stream or in chat. It is typically used as a reaction to amazing gameplay.',\n",
       " 'The SwiftRage Twitch emote is often used when someone is raging (either from excitement or anger). Viewers will spam it when something frustrating happens on the stream. It is seen as a passionate rage, rather than a tantrum.',\n",
       " 'PogU is generally used when a streamer does something cool or exciting, like beat a hard boss in a game. It can also be used to express surprise or shock.',\n",
       " 'Is used when people reference or create conspiracy theories or make “Illuminati signs.” It can also be used when something seems sneaky or suspicious on screen.',\n",
       " 'Is usually used on Twitch when someone is disgusted or annoyed with something the streamer or chat says or does.',\n",
       " 'Is used to mock someone who is throwing a tantrum for no reason',\n",
       " 'Is used when a server is suffering from ping or low latency.',\n",
       " 'It is often used in waves of nostalgia or when someone has a fantastic idea.',\n",
       " 'The ResidentSleeper emote is often used on Twitch when a stream or topic is boring.',\n",
       " 'The Seemsgood emote is used on Twitch as a thumbs up emote either when someone does something good, or in a sarcastic way.',\n",
       " 'It is used when someone is expressing that they are under a lot of pressure or experiencing anxiety.',\n",
       " 'The Wutface Twitch emote is used to express disbelief or shock. Most often, it is spammed when something surprising happens on stream.\\xa0',\n",
       " 'The AYAYA emote is typically used on Twitch as a sign of excitement or pleasure.',\n",
       " 'TheThing emote is used on Twitch when someone wants to make a funny face',\n",
       " 'The Keepo emote is used on Twitch in the same way that Kappa is used, to indicate sarcasm.',\n",
       " 'The BrokeBack emote is used on Twitch when someone does something dopey or if the streamer has a stroke of dumb luck.',\n",
       " 'This emote is based on the peepoHappy emote and expresses an intenisfied happiness.',\n",
       " 'The CoolStoryBob Twitch emote is used in the celebration of Bob Ross or when someone tells a “cool story.”',\n",
       " 'Used when someone says something cheesy, such as a Dad joke.',\n",
       " 'An insincere smile that many people use in situations where they want to appear friendly but not be overly social.',\n",
       " 'It is based on the Pepe the Frog character and is often spammed ironically when someone is perceived as stupid or as having a mental disability. It can also be used when someone does something odd or out of place on the platform.',\n",
       " 'The KKona Twitch emote is most commonly used as slang for “American” or “Redneck” when someone does something stereotypically American.\\xa0It can often be seen spammed in a chat where the streamer frequently does things that seem over-the-top to the rest of the world.',\n",
       " 'The FeelsBirthdayMan emote is used when celebrating someone’s birthday or when announcing your own birthday. It is also sometimes used in mock celebration.']"
      ]
     },
     "execution_count": 8,
     "metadata": {},
     "output_type": "execute_result"
    }
   ],
   "source": [
    "twitch_chats"
   ]
  },
  {
   "cell_type": "code",
   "execution_count": 5,
   "metadata": {},
   "outputs": [],
   "source": [
    "list_polarity = classifier(twitch_chats)"
   ]
  },
  {
   "cell_type": "code",
   "execution_count": 8,
   "metadata": {},
   "outputs": [
    {
     "name": "stdout",
     "output_type": "stream",
     "text": [
      "label: Neutral, with score: 0.8278\n",
      "label: Positive, with score: 0.5579\n",
      "label: Positive, with score: 0.9341\n",
      "label: Positive, with score: 0.6078\n",
      "label: Positive, with score: 0.6078\n",
      "label: Positive, with score: 0.6078\n",
      "label: Negative, with score: 0.5644\n",
      "label: Neutral, with score: 0.8326\n",
      "label: Neutral, with score: 0.8536\n",
      "label: Neutral, with score: 0.6606\n",
      "label: Neutral, with score: 0.7448\n",
      "label: Positive, with score: 0.5979\n",
      "label: Negative, with score: 0.669\n",
      "label: Neutral, with score: 0.594\n",
      "label: Positive, with score: 0.8056\n",
      "label: Neutral, with score: 0.5911\n",
      "label: Positive, with score: 0.9542\n",
      "label: Negative, with score: 0.6981\n",
      "label: Neutral, with score: 0.6951\n",
      "label: Negative, with score: 0.6514\n",
      "label: Negative, with score: 0.639\n",
      "label: Positive, with score: 0.6598\n",
      "label: Negative, with score: 0.6499\n",
      "label: Neutral, with score: 0.4991\n",
      "label: Positive, with score: 0.8706\n",
      "label: Neutral, with score: 0.7582\n",
      "label: Negative, with score: 0.7176\n",
      "label: Neutral, with score: 0.6087\n",
      "label: Neutral, with score: 0.8956\n",
      "label: Negative, with score: 0.7759\n",
      "label: Neutral, with score: 0.5061\n",
      "label: Neutral, with score: 0.81\n",
      "label: Neutral, with score: 0.4029\n",
      "label: Negative, with score: 0.7282\n",
      "label: Negative, with score: 0.6362\n",
      "label: Negative, with score: 0.5889\n",
      "label: Neutral, with score: 0.918\n",
      "label: Negative, with score: 0.8297\n",
      "label: Neutral, with score: 0.5679\n",
      "label: Negative, with score: 0.6123\n",
      "label: Positive, with score: 0.8923\n",
      "label: Neutral, with score: 0.763\n",
      "label: Positive, with score: 0.6878\n",
      "label: Negative, with score: 0.8081\n",
      "label: Positive, with score: 0.5105\n",
      "label: Positive, with score: 0.8906\n",
      "label: Neutral, with score: 0.48\n",
      "label: Positive, with score: 0.8473\n",
      "label: Neutral, with score: 0.6634\n",
      "label: Negative, with score: 0.7034\n",
      "label: Negative, with score: 0.678\n",
      "label: Neutral, with score: 0.4886\n",
      "label: Positive, with score: 0.9084\n",
      "label: Neutral, with score: 0.5474\n",
      "label: Positive, with score: 0.7629\n",
      "label: Negative, with score: 0.5707\n",
      "label: Neutral, with score: 0.718\n",
      "label: Positive, with score: 0.8368\n",
      "label: Neutral, with score: 0.6904\n",
      "label: Neutral, with score: 0.7932\n",
      "label: Negative, with score: 0.468\n",
      "label: Positive, with score: 0.6717\n",
      "label: Positive, with score: 0.7797\n",
      "label: Neutral, with score: 0.6485\n",
      "label: Neutral, with score: 0.6841\n",
      "label: Negative, with score: 0.6906\n",
      "label: Neutral, with score: 0.6086\n",
      "label: Positive, with score: 0.5009\n"
     ]
    }
   ],
   "source": [
    "list_polarity_label = []\n",
    "for result in list_polarity:\n",
    "    print(f\"label: {result['label']}, with score: {round(result['score'], 4)}\")\n",
    "    list_polarity_label.append(result['label'].upper())"
   ]
  },
  {
   "cell_type": "code",
   "execution_count": 9,
   "metadata": {},
   "outputs": [],
   "source": [
    "text_df['BERT_polarity'] = list_polarity_label"
   ]
  },
  {
   "cell_type": "code",
   "execution_count": 10,
   "metadata": {},
   "outputs": [],
   "source": [
    "text_df.to_csv('../data/Fact tables/EmoteFactTable_BERT.csv')"
   ]
  },
  {
   "cell_type": "code",
   "execution_count": null,
   "metadata": {},
   "outputs": [],
   "source": []
  }
 ],
 "metadata": {
  "kernelspec": {
   "display_name": "Python 3",
   "language": "python",
   "name": "python3"
  },
  "language_info": {
   "codemirror_mode": {
    "name": "ipython",
    "version": 3
   },
   "file_extension": ".py",
   "mimetype": "text/x-python",
   "name": "python",
   "nbconvert_exporter": "python",
   "pygments_lexer": "ipython3",
   "version": "3.7.6"
  }
 },
 "nbformat": 4,
 "nbformat_minor": 4
}
