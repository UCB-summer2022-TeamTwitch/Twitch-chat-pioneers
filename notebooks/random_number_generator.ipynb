{
 "cells": [
  {
   "cell_type": "code",
   "execution_count": 4,
   "metadata": {},
   "outputs": [],
   "source": [
    "import random\n",
    "import pandas as pd"
   ]
  },
  {
   "cell_type": "code",
   "execution_count": 53,
   "metadata": {},
   "outputs": [],
   "source": [
    "rands = []\n",
    "for i in range(34):\n",
    "\trands.append(random.uniform(-.5, 1))"
   ]
  },
  {
   "cell_type": "code",
   "execution_count": 54,
   "metadata": {},
   "outputs": [],
   "source": [
    "pd.DataFrame({'rand':rands}).to_csv('randomnumbers.csv')"
   ]
  },
  {
   "cell_type": "code",
   "execution_count": 34,
   "metadata": {},
   "outputs": [],
   "source": [
    "sample_sents = pd.read_csv('../data/processed/sentiment_graphs_d3/sample_historic_sentiment_graph_observable_v2.csv')"
   ]
  },
  {
   "cell_type": "code",
   "execution_count": 35,
   "metadata": {},
   "outputs": [
    {
     "data": {
      "text/html": [
       "<div>\n",
       "<style scoped>\n",
       "    .dataframe tbody tr th:only-of-type {\n",
       "        vertical-align: middle;\n",
       "    }\n",
       "\n",
       "    .dataframe tbody tr th {\n",
       "        vertical-align: top;\n",
       "    }\n",
       "\n",
       "    .dataframe thead th {\n",
       "        text-align: right;\n",
       "    }\n",
       "</style>\n",
       "<table border=\"1\" class=\"dataframe\">\n",
       "  <thead>\n",
       "    <tr style=\"text-align: right;\">\n",
       "      <th></th>\n",
       "      <th>timestamp</th>\n",
       "      <th>value</th>\n",
       "    </tr>\n",
       "  </thead>\n",
       "  <tbody>\n",
       "    <tr>\n",
       "      <th>0</th>\n",
       "      <td>2018-05-15 19:03:42</td>\n",
       "      <td>659.456140</td>\n",
       "    </tr>\n",
       "    <tr>\n",
       "      <th>1</th>\n",
       "      <td>2018-05-15 19:08:42</td>\n",
       "      <td>707.319298</td>\n",
       "    </tr>\n",
       "    <tr>\n",
       "      <th>2</th>\n",
       "      <td>2018-05-15 19:13:42</td>\n",
       "      <td>518.087719</td>\n",
       "    </tr>\n",
       "    <tr>\n",
       "      <th>3</th>\n",
       "      <td>2018-05-15 19:18:42</td>\n",
       "      <td>572.610526</td>\n",
       "    </tr>\n",
       "    <tr>\n",
       "      <th>4</th>\n",
       "      <td>2018-05-15 19:23:42</td>\n",
       "      <td>621.445614</td>\n",
       "    </tr>\n",
       "    <tr>\n",
       "      <th>...</th>\n",
       "      <td>...</td>\n",
       "      <td>...</td>\n",
       "    </tr>\n",
       "    <tr>\n",
       "      <th>284</th>\n",
       "      <td>2018-05-16 18:43:42</td>\n",
       "      <td>103.845614</td>\n",
       "    </tr>\n",
       "    <tr>\n",
       "      <th>285</th>\n",
       "      <td>2018-05-16 18:48:42</td>\n",
       "      <td>114.901754</td>\n",
       "    </tr>\n",
       "    <tr>\n",
       "      <th>286</th>\n",
       "      <td>2018-05-16 18:53:42</td>\n",
       "      <td>185.856140</td>\n",
       "    </tr>\n",
       "    <tr>\n",
       "      <th>287</th>\n",
       "      <td>2018-05-16 18:58:42</td>\n",
       "      <td>150.929825</td>\n",
       "    </tr>\n",
       "    <tr>\n",
       "      <th>288</th>\n",
       "      <td>2018-05-16 19:03:42</td>\n",
       "      <td>204.597209</td>\n",
       "    </tr>\n",
       "  </tbody>\n",
       "</table>\n",
       "<p>289 rows × 2 columns</p>\n",
       "</div>"
      ],
      "text/plain": [
       "               timestamp       value\n",
       "0    2018-05-15 19:03:42  659.456140\n",
       "1    2018-05-15 19:08:42  707.319298\n",
       "2    2018-05-15 19:13:42  518.087719\n",
       "3    2018-05-15 19:18:42  572.610526\n",
       "4    2018-05-15 19:23:42  621.445614\n",
       "..                   ...         ...\n",
       "284  2018-05-16 18:43:42  103.845614\n",
       "285  2018-05-16 18:48:42  114.901754\n",
       "286  2018-05-16 18:53:42  185.856140\n",
       "287  2018-05-16 18:58:42  150.929825\n",
       "288  2018-05-16 19:03:42  204.597209\n",
       "\n",
       "[289 rows x 2 columns]"
      ]
     },
     "execution_count": 35,
     "metadata": {},
     "output_type": "execute_result"
    }
   ],
   "source": [
    "sample_sents"
   ]
  },
  {
   "cell_type": "markdown",
   "metadata": {},
   "source": [
    "`new_value = ( (old_value - old_min) / (old_max - old_min) ) * (new_max - new_min) + new_min`\n",
    "\n",
    "- Better and more easy to comprehend formula here: https://gamedev.stackexchange.com/questions/33441/how-to-convert-a-number-from-one-min-max-set-to-another-min-max-set\n",
    "\n",
    "```\n",
    "oldRange = oldMax - oldMin\n",
    "newRange = newMax - newMin\n",
    "newValue = ((oldValue - oldMin) * newRange / oldRange) + newMin\n",
    "```"
   ]
  },
  {
   "cell_type": "code",
   "execution_count": 39,
   "metadata": {},
   "outputs": [],
   "source": [
    "# sample_sents.loc[:, 'new_val'] = ((sample_sents['value'] - sample_sents['value'].min()) * 2 / (sample_sents['value'].max() - sample_sents['value'].min())) -1 ---> this works too, but super confusing \n",
    "\n",
    "oldRange = (sample_sents['value'].max() - sample_sents['value'].min())\n",
    "newRange = 1-(-1) \t\t\t\t\t\t\t\t\t\t\t\t\t\t# Effectively 2\n",
    "sample_sents.loc[:, 'new_val'] = ((sample_sents['value'] - sample_sents['value'].min()) * newRange / (oldRange)) -1"
   ]
  },
  {
   "cell_type": "code",
   "execution_count": 33,
   "metadata": {},
   "outputs": [
    {
     "name": "stdout",
     "output_type": "stream",
     "text": [
      "1.0\n",
      "-1.0\n"
     ]
    }
   ],
   "source": [
    "print(sample_sents['new_val'].max())\n",
    "print(sample_sents['new_val'].min())"
   ]
  },
  {
   "cell_type": "code",
   "execution_count": 41,
   "metadata": {},
   "outputs": [],
   "source": [
    "sample_sents[['timestamp','new_val']].to_csv('normalized_sentiments_sample.csv')"
   ]
  },
  {
   "cell_type": "code",
   "execution_count": 40,
   "metadata": {},
   "outputs": [
    {
     "data": {
      "text/html": [
       "<div>\n",
       "<style scoped>\n",
       "    .dataframe tbody tr th:only-of-type {\n",
       "        vertical-align: middle;\n",
       "    }\n",
       "\n",
       "    .dataframe tbody tr th {\n",
       "        vertical-align: top;\n",
       "    }\n",
       "\n",
       "    .dataframe thead th {\n",
       "        text-align: right;\n",
       "    }\n",
       "</style>\n",
       "<table border=\"1\" class=\"dataframe\">\n",
       "  <thead>\n",
       "    <tr style=\"text-align: right;\">\n",
       "      <th></th>\n",
       "      <th>timestamp</th>\n",
       "      <th>new_val</th>\n",
       "    </tr>\n",
       "  </thead>\n",
       "  <tbody>\n",
       "    <tr>\n",
       "      <th>0</th>\n",
       "      <td>2018-05-15 19:03:42</td>\n",
       "      <td>0.523246</td>\n",
       "    </tr>\n",
       "    <tr>\n",
       "      <th>1</th>\n",
       "      <td>2018-05-15 19:08:42</td>\n",
       "      <td>0.636749</td>\n",
       "    </tr>\n",
       "    <tr>\n",
       "      <th>2</th>\n",
       "      <td>2018-05-15 19:13:42</td>\n",
       "      <td>0.188003</td>\n",
       "    </tr>\n",
       "    <tr>\n",
       "      <th>3</th>\n",
       "      <td>2018-05-15 19:18:42</td>\n",
       "      <td>0.317299</td>\n",
       "    </tr>\n",
       "    <tr>\n",
       "      <th>4</th>\n",
       "      <td>2018-05-15 19:23:42</td>\n",
       "      <td>0.433107</td>\n",
       "    </tr>\n",
       "    <tr>\n",
       "      <th>...</th>\n",
       "      <td>...</td>\n",
       "      <td>...</td>\n",
       "    </tr>\n",
       "    <tr>\n",
       "      <th>284</th>\n",
       "      <td>2018-05-16 18:43:42</td>\n",
       "      <td>-0.794336</td>\n",
       "    </tr>\n",
       "    <tr>\n",
       "      <th>285</th>\n",
       "      <td>2018-05-16 18:48:42</td>\n",
       "      <td>-0.768117</td>\n",
       "    </tr>\n",
       "    <tr>\n",
       "      <th>286</th>\n",
       "      <td>2018-05-16 18:53:42</td>\n",
       "      <td>-0.599855</td>\n",
       "    </tr>\n",
       "    <tr>\n",
       "      <th>287</th>\n",
       "      <td>2018-05-16 18:58:42</td>\n",
       "      <td>-0.682680</td>\n",
       "    </tr>\n",
       "    <tr>\n",
       "      <th>288</th>\n",
       "      <td>2018-05-16 19:03:42</td>\n",
       "      <td>-0.555412</td>\n",
       "    </tr>\n",
       "  </tbody>\n",
       "</table>\n",
       "<p>289 rows × 2 columns</p>\n",
       "</div>"
      ],
      "text/plain": [
       "               timestamp   new_val\n",
       "0    2018-05-15 19:03:42  0.523246\n",
       "1    2018-05-15 19:08:42  0.636749\n",
       "2    2018-05-15 19:13:42  0.188003\n",
       "3    2018-05-15 19:18:42  0.317299\n",
       "4    2018-05-15 19:23:42  0.433107\n",
       "..                   ...       ...\n",
       "284  2018-05-16 18:43:42 -0.794336\n",
       "285  2018-05-16 18:48:42 -0.768117\n",
       "286  2018-05-16 18:53:42 -0.599855\n",
       "287  2018-05-16 18:58:42 -0.682680\n",
       "288  2018-05-16 19:03:42 -0.555412\n",
       "\n",
       "[289 rows x 2 columns]"
      ]
     },
     "execution_count": 40,
     "metadata": {},
     "output_type": "execute_result"
    }
   ],
   "source": [
    "sample_sents[['timestamp','new_val']]"
   ]
  }
 ],
 "metadata": {
  "kernelspec": {
   "display_name": "Python 3.8.10 64-bit",
   "language": "python",
   "name": "python3"
  },
  "language_info": {
   "codemirror_mode": {
    "name": "ipython",
    "version": 3
   },
   "file_extension": ".py",
   "mimetype": "text/x-python",
   "name": "python",
   "nbconvert_exporter": "python",
   "pygments_lexer": "ipython3",
   "version": "3.8.10"
  },
  "orig_nbformat": 4,
  "vscode": {
   "interpreter": {
    "hash": "31f2aee4e71d21fbe5cf8b01ff0e069b9275f58929596ceb00d14d90e3e16cd6"
   }
  }
 },
 "nbformat": 4,
 "nbformat_minor": 2
}
