{
 "cells": [
  {
   "cell_type": "code",
   "execution_count": 2,
   "metadata": {},
   "outputs": [
    {
     "name": "stdout",
     "output_type": "stream",
     "text": [
      "Collecting twitch_listener\n",
      "  Downloading twitch_listener-1.2.1.tar.gz (5.0 kB)\n",
      "Requirement already satisfied: pandas in /Users/gauriganjoo1/anaconda3/lib/python3.8/site-packages (from twitch_listener) (1.2.1)\n",
      "Requirement already satisfied: requests in /Users/gauriganjoo1/anaconda3/lib/python3.8/site-packages (from twitch_listener) (2.27.1)\n",
      "Requirement already satisfied: python-dateutil>=2.7.3 in /Users/gauriganjoo1/anaconda3/lib/python3.8/site-packages (from pandas->twitch_listener) (2.8.2)\n",
      "Requirement already satisfied: pytz>=2017.3 in /Users/gauriganjoo1/anaconda3/lib/python3.8/site-packages (from pandas->twitch_listener) (2022.1)\n",
      "Requirement already satisfied: numpy>=1.16.5 in /Users/gauriganjoo1/anaconda3/lib/python3.8/site-packages (from pandas->twitch_listener) (1.19.2)\n",
      "Requirement already satisfied: six>=1.5 in /Users/gauriganjoo1/anaconda3/lib/python3.8/site-packages (from python-dateutil>=2.7.3->pandas->twitch_listener) (1.15.0)\n",
      "Requirement already satisfied: idna<4,>=2.5 in /Users/gauriganjoo1/anaconda3/lib/python3.8/site-packages (from requests->twitch_listener) (2.10)\n",
      "Requirement already satisfied: certifi>=2017.4.17 in /Users/gauriganjoo1/anaconda3/lib/python3.8/site-packages (from requests->twitch_listener) (2020.12.5)\n",
      "Requirement already satisfied: urllib3<1.27,>=1.21.1 in /Users/gauriganjoo1/anaconda3/lib/python3.8/site-packages (from requests->twitch_listener) (1.26.3)\n",
      "Requirement already satisfied: charset-normalizer~=2.0.0 in /Users/gauriganjoo1/anaconda3/lib/python3.8/site-packages (from requests->twitch_listener) (2.0.12)\n",
      "Building wheels for collected packages: twitch-listener\n",
      "  Building wheel for twitch-listener (setup.py) ... \u001b[?25ldone\n",
      "\u001b[?25h  Created wheel for twitch-listener: filename=twitch_listener-1.2.1-py3-none-any.whl size=5679 sha256=83e5028a531d584f1c67b5de6ba6c0ab37e3976dd55b15ad7ad5a0fd39cd978a\n",
      "  Stored in directory: /Users/gauriganjoo1/Library/Caches/pip/wheels/51/db/3d/aa410e8ed7c032bfb5177b6f9a3b4e86a59d3af4273b90f1c4\n",
      "Successfully built twitch-listener\n",
      "Installing collected packages: twitch-listener\n",
      "Successfully installed twitch-listener-1.2.1\n"
     ]
    }
   ],
   "source": [
    "!pip install twitch_listener"
   ]
  },
  {
   "cell_type": "code",
   "execution_count": null,
   "metadata": {},
   "outputs": [],
   "source": [
    "from twitch_listener import listener\n",
    "\n",
    "# Connect to Twitch\n",
    "bot = listener.connect_twitch('twitch_pioneers', \n",
    "                             'oauth:zkekfhyhzhdl8ltxs6b8jdez7b2i6b', \n",
    "                             'capstone_pioneers')\n",
    "\n",
    "# List of channels to connect to\n",
    "# Channel names must be lowercase\n",
    "channels_to_listen_to = ['disguisedtoast']\n",
    "\n",
    "# Scrape live chat data into raw log files. (Duration is seconds)\n",
    "bot.listen(channels_to_listen_to, duration = 60) \n",
    "\n",
    "# Convert log files into .CSV format\n",
    "bot.parse_logs(timestamp = True)\n",
    "\n",
    "# Generate adjacency matrix\n",
    "bot.adj_matrix(weighted = False, matrix_name = \"streamer_network.csv\")"
   ]
  },
  {
   "cell_type": "code",
   "execution_count": null,
   "metadata": {},
   "outputs": [],
   "source": []
  }
 ],
 "metadata": {
  "kernelspec": {
   "display_name": "Python 3",
   "language": "python",
   "name": "python3"
  },
  "language_info": {
   "codemirror_mode": {
    "name": "ipython",
    "version": 3
   },
   "file_extension": ".py",
   "mimetype": "text/x-python",
   "name": "python",
   "nbconvert_exporter": "python",
   "pygments_lexer": "ipython3",
   "version": "3.8.5"
  }
 },
 "nbformat": 4,
 "nbformat_minor": 4
}
